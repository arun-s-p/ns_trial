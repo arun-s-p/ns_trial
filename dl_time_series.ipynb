{
 "cells": [
  {
   "cell_type": "code",
   "execution_count": 1,
   "metadata": {},
   "outputs": [],
   "source": [
    "import pandas as pd\n",
    "import numpy as np\n",
    "import matplotlib.pyplot as plt\n",
    "import seaborn as sns\n",
    "import warnings\n",
    "warnings.filterwarnings('ignore')\n",
    "plt.style.use('Solarize_Light2')"
   ]
  },
  {
   "cell_type": "code",
   "execution_count": 2,
   "metadata": {},
   "outputs": [
    {
     "data": {
      "text/html": [
       "<div>\n",
       "<style scoped>\n",
       "    .dataframe tbody tr th:only-of-type {\n",
       "        vertical-align: middle;\n",
       "    }\n",
       "\n",
       "    .dataframe tbody tr th {\n",
       "        vertical-align: top;\n",
       "    }\n",
       "\n",
       "    .dataframe thead th {\n",
       "        text-align: right;\n",
       "    }\n",
       "</style>\n",
       "<table border=\"1\" class=\"dataframe\">\n",
       "  <thead>\n",
       "    <tr style=\"text-align: right;\">\n",
       "      <th></th>\n",
       "      <th>t</th>\n",
       "      <th>x</th>\n",
       "      <th>y</th>\n",
       "      <th>z</th>\n",
       "      <th>prank</th>\n",
       "      <th>etype</th>\n",
       "      <th>uidx</th>\n",
       "      <th>eidx</th>\n",
       "      <th>rho</th>\n",
       "      <th>u</th>\n",
       "      <th>v</th>\n",
       "      <th>w</th>\n",
       "      <th>p</th>\n",
       "    </tr>\n",
       "  </thead>\n",
       "  <tbody>\n",
       "    <tr>\n",
       "      <th>0</th>\n",
       "      <td>3.211295e-07</td>\n",
       "      <td>0.129677</td>\n",
       "      <td>0.000068</td>\n",
       "      <td>0.04984</td>\n",
       "      <td>14</td>\n",
       "      <td>pri</td>\n",
       "      <td>4</td>\n",
       "      <td>1439</td>\n",
       "      <td>1.0923</td>\n",
       "      <td>46.226949</td>\n",
       "      <td>4.279629e-11</td>\n",
       "      <td>-9.923974e-13</td>\n",
       "      <td>89769.0</td>\n",
       "    </tr>\n",
       "    <tr>\n",
       "      <th>1</th>\n",
       "      <td>8.815134e-07</td>\n",
       "      <td>0.129677</td>\n",
       "      <td>0.000068</td>\n",
       "      <td>0.04984</td>\n",
       "      <td>14</td>\n",
       "      <td>pri</td>\n",
       "      <td>4</td>\n",
       "      <td>1439</td>\n",
       "      <td>1.0923</td>\n",
       "      <td>46.226949</td>\n",
       "      <td>4.869202e-11</td>\n",
       "      <td>-1.122913e-11</td>\n",
       "      <td>89769.0</td>\n",
       "    </tr>\n",
       "    <tr>\n",
       "      <th>2</th>\n",
       "      <td>1.647040e-06</td>\n",
       "      <td>0.129677</td>\n",
       "      <td>0.000068</td>\n",
       "      <td>0.04984</td>\n",
       "      <td>14</td>\n",
       "      <td>pri</td>\n",
       "      <td>4</td>\n",
       "      <td>1439</td>\n",
       "      <td>1.0923</td>\n",
       "      <td>46.226949</td>\n",
       "      <td>5.807815e-11</td>\n",
       "      <td>-2.223040e-11</td>\n",
       "      <td>89769.0</td>\n",
       "    </tr>\n",
       "    <tr>\n",
       "      <th>3</th>\n",
       "      <td>2.668280e-06</td>\n",
       "      <td>0.129677</td>\n",
       "      <td>0.000068</td>\n",
       "      <td>0.04984</td>\n",
       "      <td>14</td>\n",
       "      <td>pri</td>\n",
       "      <td>4</td>\n",
       "      <td>1439</td>\n",
       "      <td>1.0923</td>\n",
       "      <td>46.226949</td>\n",
       "      <td>6.084827e-11</td>\n",
       "      <td>-3.707606e-11</td>\n",
       "      <td>89769.0</td>\n",
       "    </tr>\n",
       "    <tr>\n",
       "      <th>4</th>\n",
       "      <td>4.028759e-06</td>\n",
       "      <td>0.129677</td>\n",
       "      <td>0.000068</td>\n",
       "      <td>0.04984</td>\n",
       "      <td>14</td>\n",
       "      <td>pri</td>\n",
       "      <td>4</td>\n",
       "      <td>1439</td>\n",
       "      <td>1.0923</td>\n",
       "      <td>46.226949</td>\n",
       "      <td>6.188746e-11</td>\n",
       "      <td>-5.721957e-11</td>\n",
       "      <td>89769.0</td>\n",
       "    </tr>\n",
       "  </tbody>\n",
       "</table>\n",
       "</div>"
      ],
      "text/plain": [
       "              t         x         y        z  prank etype  uidx  eidx     rho  \\\n",
       "0  3.211295e-07  0.129677  0.000068  0.04984     14   pri     4  1439  1.0923   \n",
       "1  8.815134e-07  0.129677  0.000068  0.04984     14   pri     4  1439  1.0923   \n",
       "2  1.647040e-06  0.129677  0.000068  0.04984     14   pri     4  1439  1.0923   \n",
       "3  2.668280e-06  0.129677  0.000068  0.04984     14   pri     4  1439  1.0923   \n",
       "4  4.028759e-06  0.129677  0.000068  0.04984     14   pri     4  1439  1.0923   \n",
       "\n",
       "           u             v             w        p  \n",
       "0  46.226949  4.279629e-11 -9.923974e-13  89769.0  \n",
       "1  46.226949  4.869202e-11 -1.122913e-11  89769.0  \n",
       "2  46.226949  5.807815e-11 -2.223040e-11  89769.0  \n",
       "3  46.226949  6.084827e-11 -3.707606e-11  89769.0  \n",
       "4  46.226949  6.188746e-11 -5.721957e-11  89769.0  "
      ]
     },
     "execution_count": 2,
     "metadata": {},
     "output_type": "execute_result"
    }
   ],
   "source": [
    "df=pd.read_csv('probe.csv')\n",
    "df.head()"
   ]
  },
  {
   "cell_type": "code",
   "execution_count": 136,
   "metadata": {},
   "outputs": [
    {
     "data": {
      "text/plain": [
       "array([0.12967654])"
      ]
     },
     "execution_count": 136,
     "metadata": {},
     "output_type": "execute_result"
    }
   ],
   "source": []
  },
  {
   "cell_type": "code",
   "execution_count": 3,
   "metadata": {},
   "outputs": [
    {
     "data": {
      "text/plain": [
       "t        float64\n",
       "x        float64\n",
       "y        float64\n",
       "z        float64\n",
       "prank      int64\n",
       "etype     object\n",
       "uidx       int64\n",
       "eidx       int64\n",
       "rho      float64\n",
       "u        float64\n",
       "v        float64\n",
       "w        float64\n",
       "p        float64\n",
       "dtype: object"
      ]
     },
     "execution_count": 3,
     "metadata": {},
     "output_type": "execute_result"
    }
   ],
   "source": [
    "df.dtypes"
   ]
  },
  {
   "cell_type": "code",
   "execution_count": 4,
   "metadata": {},
   "outputs": [
    {
     "data": {
      "text/plain": [
       "[<matplotlib.lines.Line2D at 0x11bdbb250>]"
      ]
     },
     "execution_count": 4,
     "metadata": {},
     "output_type": "execute_result"
    },
    {
     "data": {
      "image/png": "[encoded data removed]",
      "text/plain": [
       "<Figure size 720x360 with 1 Axes>"
      ]
     },
     "metadata": {},
     "output_type": "display_data"
    }
   ],
   "source": [
    "plt.figure(figsize=(10,5))\n",
    "plt.plot(df.t,df.u)"
   ]
  },
  {
   "cell_type": "code",
   "execution_count": 5,
   "metadata": {},
   "outputs": [
    {
     "data": {
      "text/plain": [
       "[<matplotlib.lines.Line2D at 0x11c133e20>]"
      ]
     },
     "execution_count": 5,
     "metadata": {},
     "output_type": "execute_result"
    },
    {
     "data": {
      "image/png": "[encoded data removed]",
      "text/plain": [
       "<Figure size 720x216 with 1 Axes>"
      ]
     },
     "metadata": {},
     "output_type": "display_data"
    }
   ],
   "source": [
    "plt.figure(figsize=(10,3))\n",
    "plt.plot(df.t,df.v)"
   ]
  },
  {
   "cell_type": "code",
   "execution_count": 6,
   "metadata": {},
   "outputs": [
    {
     "data": {
      "text/plain": [
       "[<matplotlib.lines.Line2D at 0x11c24f100>]"
      ]
     },
     "execution_count": 6,
     "metadata": {},
     "output_type": "execute_result"
    },
    {
     "data": {
      "image/png": "[encoded data removed]",
      "text/plain": [
       "<Figure size 720x216 with 1 Axes>"
      ]
     },
     "metadata": {},
     "output_type": "display_data"
    }
   ],
   "source": [
    "plt.figure(figsize=(10,3))\n",
    "plt.plot(df.t,df.w)"
   ]
  },
  {
   "cell_type": "code",
   "execution_count": 7,
   "metadata": {},
   "outputs": [
    {
     "data": {
      "text/plain": [
       "[<matplotlib.lines.Line2D at 0x11c25ca00>]"
      ]
     },
     "execution_count": 7,
     "metadata": {},
     "output_type": "execute_result"
    },
    {
     "data": {
      "image/png": "[encoded data removed]",
      "text/plain": [
       "<Figure size 720x216 with 1 Axes>"
      ]
     },
     "metadata": {},
     "output_type": "display_data"
    }
   ],
   "source": [
    "plt.figure(figsize=(10,3))\n",
    "plt.plot(df.t,df.p)"
   ]
  },
  {
   "cell_type": "code",
   "execution_count": 8,
   "metadata": {},
   "outputs": [
    {
     "data": {
      "text/plain": [
       "[<matplotlib.lines.Line2D at 0x123fdc5b0>]"
      ]
     },
     "execution_count": 8,
     "metadata": {},
     "output_type": "execute_result"
    },
    {
     "data": {
      "image/png": "[encoded data removed]",
      "text/plain": [
       "<Figure size 720x216 with 1 Axes>"
      ]
     },
     "metadata": {},
     "output_type": "display_data"
    }
   ],
   "source": [
    "plt.figure(figsize=(10,3))\n",
    "plt.plot(df.t,df.rho)"
   ]
  },
  {
   "cell_type": "code",
   "execution_count": 9,
   "metadata": {},
   "outputs": [
    {
     "data": {
      "text/plain": [
       "(3802, 13)"
      ]
     },
     "execution_count": 9,
     "metadata": {},
     "output_type": "execute_result"
    }
   ],
   "source": [
    "df.shape"
   ]
  },
  {
   "cell_type": "markdown",
   "metadata": {},
   "source": [
    "## Univariate prediction"
   ]
  },
  {
   "cell_type": "code",
   "execution_count": 10,
   "metadata": {},
   "outputs": [],
   "source": [
    "# take 10 time steps and try to predict the 11th time step output\n",
    "def df_to_x_y(df,window_size=10):\n",
    "    df_as_np=df.to_numpy()\n",
    "    X=[]\n",
    "    y=[]\n",
    "    for i in range(len(df_as_np)-window_size):\n",
    "        inpt = [[u] for u in df_as_np[i:i+window_size]]\n",
    "        X.append(inpt)\n",
    "        outpt = df_as_np[i+window_size]\n",
    "        y.append(outpt)\n",
    "    return np.array(X),np.array(y)"
   ]
  },
  {
   "cell_type": "code",
   "execution_count": 11,
   "metadata": {},
   "outputs": [],
   "source": [
    "ws=10\n",
    "Uin,Uout = df_to_x_y(df['u'],ws)"
   ]
  },
  {
   "cell_type": "code",
   "execution_count": 134,
   "metadata": {},
   "outputs": [
    {
     "data": {
      "text/plain": [
       "(3792, 10, 1)"
      ]
     },
     "execution_count": 134,
     "metadata": {},
     "output_type": "execute_result"
    }
   ],
   "source": [
    "Uin.shape"
   ]
  },
  {
   "cell_type": "markdown",
   "metadata": {},
   "source": [
    "1,2,3,4,5...10  11\n",
    "2,3,...11       12\n",
    "3,4....12       13\n",
    "10,11,....20.   21\n",
    "1,.....,100 101 102 103 ....."
   ]
  },
  {
   "cell_type": "code",
   "execution_count": 132,
   "metadata": {},
   "outputs": [
    {
     "data": {
      "text/plain": [
       "(array([[46.22686327],\n",
       "        [46.19353651],\n",
       "        [44.22941752],\n",
       "        [42.20877101],\n",
       "        [41.15859806],\n",
       "        [40.10033628],\n",
       "        [39.13289225],\n",
       "        [38.12907611],\n",
       "        [37.20329384],\n",
       "        [36.37535878]]),\n",
       " 35.58551937106901)"
      ]
     },
     "execution_count": 132,
     "metadata": {},
     "output_type": "execute_result"
    }
   ],
   "source": [
    "Uin[10],Uout[10]"
   ]
  },
  {
   "cell_type": "code",
   "execution_count": 133,
   "metadata": {},
   "outputs": [
    {
     "data": {
      "text/plain": [
       "(array([[46.19353651],\n",
       "        [44.22941752],\n",
       "        [42.20877101],\n",
       "        [41.15859806],\n",
       "        [40.10033628],\n",
       "        [39.13289225],\n",
       "        [38.12907611],\n",
       "        [37.20329384],\n",
       "        [36.37535878],\n",
       "        [35.58551937]]),\n",
       " 34.88014174971883)"
      ]
     },
     "execution_count": 133,
     "metadata": {},
     "output_type": "execute_result"
    }
   ],
   "source": [
    "Uin[11],Uout[11]"
   ]
  },
  {
   "cell_type": "code",
   "execution_count": 12,
   "metadata": {},
   "outputs": [],
   "source": [
    "x_train,y_train = Uin[:3000],Uout[:3000]\n",
    "x_val,y_val = Uin[3000:3350],Uout[3000:3350]\n",
    "x_test,y_test = Uin[3350:],Uout[3350:]"
   ]
  },
  {
   "cell_type": "code",
   "execution_count": 13,
   "metadata": {},
   "outputs": [],
   "source": [
    "import tensorflow as tf\n",
    "from tensorflow.keras.models import Sequential\n",
    "from tensorflow.keras.layers import *\n",
    "from tensorflow.keras.callbacks import ModelCheckpoint\n",
    "from tensorflow.keras.losses import MeanSquaredError\n",
    "from tensorflow.keras.metrics import RootMeanSquaredError\n",
    "from tensorflow.keras.optimizers import Adam"
   ]
  },
  {
   "cell_type": "code",
   "execution_count": 14,
   "metadata": {},
   "outputs": [
    {
     "name": "stdout",
     "output_type": "stream",
     "text": [
      "Model: \"sequential\"\n",
      "_________________________________________________________________\n",
      " Layer (type)                Output Shape              Param #   \n",
      "=================================================================\n",
      " lstm (LSTM)                 (None, 64)                16896     \n",
      "                                                                 \n",
      " dense (Dense)               (None, 16)                1040      \n",
      "                                                                 \n",
      " dense_1 (Dense)             (None, 1)                 17        \n",
      "                                                                 \n",
      "=================================================================\n",
      "Total params: 17,953\n",
      "Trainable params: 17,953\n",
      "Non-trainable params: 0\n",
      "_________________________________________________________________\n"
     ]
    }
   ],
   "source": [
    "model = Sequential()\n",
    "model.add(InputLayer((ws,1)))\n",
    "model.add(LSTM(64))\n",
    "model.add(Dense(16,'relu'))\n",
    "model.add(Dense(1,'linear'))\n",
    "\n",
    "model.summary()"
   ]
  },
  {
   "cell_type": "code",
   "execution_count": 15,
   "metadata": {},
   "outputs": [],
   "source": [
    "cp = ModelCheckpoint('model1/',save_best_only=True)\n",
    "model.compile(loss=MeanSquaredError(),optimizer=Adam(learning_rate=0.0001),metrics=[RootMeanSquaredError()])"
   ]
  },
  {
   "cell_type": "code",
   "execution_count": 16,
   "metadata": {},
   "outputs": [
    {
     "name": "stdout",
     "output_type": "stream",
     "text": [
      "Epoch 1/50\n",
      "83/94 [=========================>....] - ETA: 0s - loss: 1057.0072 - root_mean_squared_error: 32.5116"
     ]
    },
    {
     "name": "stderr",
     "output_type": "stream",
     "text": [
      "WARNING:absl:Found untraced functions such as lstm_cell_layer_call_fn, lstm_cell_layer_call_and_return_conditional_losses while saving (showing 2 of 2). These functions will not be directly callable after loading.\n"
     ]
    },
    {
     "name": "stdout",
     "output_type": "stream",
     "text": [
      "INFO:tensorflow:Assets written to: model1/assets\n"
     ]
    },
    {
     "name": "stderr",
     "output_type": "stream",
     "text": [
      "INFO:tensorflow:Assets written to: model1/assets\n",
      "WARNING:absl:<keras.layers.recurrent.LSTMCell object at 0x12e64c970> has the same name 'LSTMCell' as a built-in Keras object. Consider renaming <class 'keras.layers.recurrent.LSTMCell'> to avoid naming conflicts when loading with `tf.keras.models.load_model`. If renaming is not possible, pass the object in the `custom_objects` parameter of the load function.\n"
     ]
    },
    {
     "name": "stdout",
     "output_type": "stream",
     "text": [
      "94/94 [==============================] - 5s 40ms/step - loss: 1051.6340 - root_mean_squared_error: 32.4289 - val_loss: 316.5856 - val_root_mean_squared_error: 17.7929\n",
      "Epoch 2/50\n",
      "93/94 [============================>.] - ETA: 0s - loss: 1011.0426 - root_mean_squared_error: 31.7969"
     ]
    },
    {
     "name": "stderr",
     "output_type": "stream",
     "text": [
      "WARNING:absl:Found untraced functions such as lstm_cell_layer_call_fn, lstm_cell_layer_call_and_return_conditional_losses while saving (showing 2 of 2). These functions will not be directly callable after loading.\n"
     ]
    },
    {
     "name": "stdout",
     "output_type": "stream",
     "text": [
      "INFO:tensorflow:Assets written to: model1/assets\n"
     ]
    },
    {
     "name": "stderr",
     "output_type": "stream",
     "text": [
      "INFO:tensorflow:Assets written to: model1/assets\n",
      "WARNING:absl:<keras.layers.recurrent.LSTMCell object at 0x12e64c970> has the same name 'LSTMCell' as a built-in Keras object. Consider renaming <class 'keras.layers.recurrent.LSTMCell'> to avoid naming conflicts when loading with `tf.keras.models.load_model`. If renaming is not possible, pass the object in the `custom_objects` parameter of the load function.\n"
     ]
    },
    {
     "name": "stdout",
     "output_type": "stream",
     "text": [
      "94/94 [==============================] - 3s 32ms/step - loss: 1011.4482 - root_mean_squared_error: 31.8033 - val_loss: 314.4255 - val_root_mean_squared_error: 17.7320\n",
      "Epoch 3/50\n",
      "89/94 [===========================>..] - ETA: 0s - loss: 916.0972 - root_mean_squared_error: 30.2671"
     ]
    },
    {
     "name": "stderr",
     "output_type": "stream",
     "text": [
      "WARNING:absl:Found untraced functions such as lstm_cell_layer_call_fn, lstm_cell_layer_call_and_return_conditional_losses while saving (showing 2 of 2). These functions will not be directly callable after loading.\n"
     ]
    },
    {
     "name": "stdout",
     "output_type": "stream",
     "text": [
      "INFO:tensorflow:Assets written to: model1/assets\n"
     ]
    },
    {
     "name": "stderr",
     "output_type": "stream",
     "text": [
      "INFO:tensorflow:Assets written to: model1/assets\n",
      "WARNING:absl:<keras.layers.recurrent.LSTMCell object at 0x12e64c970> has the same name 'LSTMCell' as a built-in Keras object. Consider renaming <class 'keras.layers.recurrent.LSTMCell'> to avoid naming conflicts when loading with `tf.keras.models.load_model`. If renaming is not possible, pass the object in the `custom_objects` parameter of the load function.\n"
     ]
    },
    {
     "name": "stdout",
     "output_type": "stream",
     "text": [
      "94/94 [==============================] - 3s 36ms/step - loss: 911.3203 - root_mean_squared_error: 30.1881 - val_loss: 313.6136 - val_root_mean_squared_error: 17.7091\n",
      "Epoch 4/50\n",
      "89/94 [===========================>..] - ETA: 0s - loss: 739.5753 - root_mean_squared_error: 27.1951"
     ]
    },
    {
     "name": "stderr",
     "output_type": "stream",
     "text": [
      "WARNING:absl:Found untraced functions such as lstm_cell_layer_call_fn, lstm_cell_layer_call_and_return_conditional_losses while saving (showing 2 of 2). These functions will not be directly callable after loading.\n"
     ]
    },
    {
     "name": "stdout",
     "output_type": "stream",
     "text": [
      "INFO:tensorflow:Assets written to: model1/assets\n"
     ]
    },
    {
     "name": "stderr",
     "output_type": "stream",
     "text": [
      "INFO:tensorflow:Assets written to: model1/assets\n",
      "WARNING:absl:<keras.layers.recurrent.LSTMCell object at 0x12e64c970> has the same name 'LSTMCell' as a built-in Keras object. Consider renaming <class 'keras.layers.recurrent.LSTMCell'> to avoid naming conflicts when loading with `tf.keras.models.load_model`. If renaming is not possible, pass the object in the `custom_objects` parameter of the load function.\n"
     ]
    },
    {
     "name": "stdout",
     "output_type": "stream",
     "text": [
      "94/94 [==============================] - 3s 35ms/step - loss: 735.1353 - root_mean_squared_error: 27.1134 - val_loss: 312.9454 - val_root_mean_squared_error: 17.6903\n",
      "Epoch 5/50\n",
      "94/94 [==============================] - 0s 4ms/step - loss: 554.5220 - root_mean_squared_error: 23.5483 - val_loss: 314.5518 - val_root_mean_squared_error: 17.7356\n",
      "Epoch 6/50\n",
      "94/94 [==============================] - 0s 4ms/step - loss: 411.2314 - root_mean_squared_error: 20.2788 - val_loss: 315.5565 - val_root_mean_squared_error: 17.7639\n",
      "Epoch 7/50\n",
      "94/94 [==============================] - 0s 4ms/step - loss: 319.2344 - root_mean_squared_error: 17.8671 - val_loss: 314.9206 - val_root_mean_squared_error: 17.7460\n",
      "Epoch 8/50\n",
      "94/94 [==============================] - 0s 4ms/step - loss: 251.2545 - root_mean_squared_error: 15.8510 - val_loss: 314.5197 - val_root_mean_squared_error: 17.7347\n",
      "Epoch 9/50\n",
      "94/94 [==============================] - 0s 4ms/step - loss: 195.9597 - root_mean_squared_error: 13.9986 - val_loss: 313.8626 - val_root_mean_squared_error: 17.7162\n",
      "Epoch 10/50\n",
      "94/94 [==============================] - 0s 4ms/step - loss: 150.7998 - root_mean_squared_error: 12.2801 - val_loss: 313.4231 - val_root_mean_squared_error: 17.7038\n",
      "Epoch 11/50\n",
      "94/94 [==============================] - 0s 4ms/step - loss: 114.9608 - root_mean_squared_error: 10.7220 - val_loss: 312.9561 - val_root_mean_squared_error: 17.6906\n",
      "Epoch 12/50\n",
      "86/94 [==========================>...] - ETA: 0s - loss: 87.0090 - root_mean_squared_error: 9.3279"
     ]
    },
    {
     "name": "stderr",
     "output_type": "stream",
     "text": [
      "WARNING:absl:Found untraced functions such as lstm_cell_layer_call_fn, lstm_cell_layer_call_and_return_conditional_losses while saving (showing 2 of 2). These functions will not be directly callable after loading.\n"
     ]
    },
    {
     "name": "stdout",
     "output_type": "stream",
     "text": [
      "INFO:tensorflow:Assets written to: model1/assets\n"
     ]
    },
    {
     "name": "stderr",
     "output_type": "stream",
     "text": [
      "INFO:tensorflow:Assets written to: model1/assets\n",
      "WARNING:absl:<keras.layers.recurrent.LSTMCell object at 0x12e64c970> has the same name 'LSTMCell' as a built-in Keras object. Consider renaming <class 'keras.layers.recurrent.LSTMCell'> to avoid naming conflicts when loading with `tf.keras.models.load_model`. If renaming is not possible, pass the object in the `custom_objects` parameter of the load function.\n"
     ]
    },
    {
     "name": "stdout",
     "output_type": "stream",
     "text": [
      "94/94 [==============================] - 3s 33ms/step - loss: 86.1731 - root_mean_squared_error: 9.2829 - val_loss: 312.1431 - val_root_mean_squared_error: 17.6676\n",
      "Epoch 13/50\n",
      "82/94 [=========================>....] - ETA: 0s - loss: 64.7688 - root_mean_squared_error: 8.0479"
     ]
    },
    {
     "name": "stderr",
     "output_type": "stream",
     "text": [
      "WARNING:absl:Found untraced functions such as lstm_cell_layer_call_fn, lstm_cell_layer_call_and_return_conditional_losses while saving (showing 2 of 2). These functions will not be directly callable after loading.\n"
     ]
    },
    {
     "name": "stdout",
     "output_type": "stream",
     "text": [
      "INFO:tensorflow:Assets written to: model1/assets\n"
     ]
    },
    {
     "name": "stderr",
     "output_type": "stream",
     "text": [
      "INFO:tensorflow:Assets written to: model1/assets\n",
      "WARNING:absl:<keras.layers.recurrent.LSTMCell object at 0x12e64c970> has the same name 'LSTMCell' as a built-in Keras object. Consider renaming <class 'keras.layers.recurrent.LSTMCell'> to avoid naming conflicts when loading with `tf.keras.models.load_model`. If renaming is not possible, pass the object in the `custom_objects` parameter of the load function.\n"
     ]
    },
    {
     "name": "stdout",
     "output_type": "stream",
     "text": [
      "94/94 [==============================] - 3s 31ms/step - loss: 63.4244 - root_mean_squared_error: 7.9639 - val_loss: 311.6709 - val_root_mean_squared_error: 17.6542\n",
      "Epoch 14/50\n",
      "81/94 [========================>.....] - ETA: 0s - loss: 46.8127 - root_mean_squared_error: 6.8420"
     ]
    },
    {
     "name": "stderr",
     "output_type": "stream",
     "text": [
      "WARNING:absl:Found untraced functions such as lstm_cell_layer_call_fn, lstm_cell_layer_call_and_return_conditional_losses while saving (showing 2 of 2). These functions will not be directly callable after loading.\n"
     ]
    },
    {
     "name": "stdout",
     "output_type": "stream",
     "text": [
      "INFO:tensorflow:Assets written to: model1/assets\n"
     ]
    },
    {
     "name": "stderr",
     "output_type": "stream",
     "text": [
      "INFO:tensorflow:Assets written to: model1/assets\n",
      "WARNING:absl:<keras.layers.recurrent.LSTMCell object at 0x12e64c970> has the same name 'LSTMCell' as a built-in Keras object. Consider renaming <class 'keras.layers.recurrent.LSTMCell'> to avoid naming conflicts when loading with `tf.keras.models.load_model`. If renaming is not possible, pass the object in the `custom_objects` parameter of the load function.\n"
     ]
    },
    {
     "name": "stdout",
     "output_type": "stream",
     "text": [
      "94/94 [==============================] - 3s 34ms/step - loss: 45.8356 - root_mean_squared_error: 6.7702 - val_loss: 311.2129 - val_root_mean_squared_error: 17.6412\n",
      "Epoch 15/50\n",
      "84/94 [=========================>....] - ETA: 0s - loss: 33.2539 - root_mean_squared_error: 5.7666"
     ]
    },
    {
     "name": "stderr",
     "output_type": "stream",
     "text": [
      "WARNING:absl:Found untraced functions such as lstm_cell_layer_call_fn, lstm_cell_layer_call_and_return_conditional_losses while saving (showing 2 of 2). These functions will not be directly callable after loading.\n"
     ]
    },
    {
     "name": "stdout",
     "output_type": "stream",
     "text": [
      "INFO:tensorflow:Assets written to: model1/assets\n"
     ]
    },
    {
     "name": "stderr",
     "output_type": "stream",
     "text": [
      "INFO:tensorflow:Assets written to: model1/assets\n",
      "WARNING:absl:<keras.layers.recurrent.LSTMCell object at 0x12e64c970> has the same name 'LSTMCell' as a built-in Keras object. Consider renaming <class 'keras.layers.recurrent.LSTMCell'> to avoid naming conflicts when loading with `tf.keras.models.load_model`. If renaming is not possible, pass the object in the `custom_objects` parameter of the load function.\n"
     ]
    },
    {
     "name": "stdout",
     "output_type": "stream",
     "text": [
      "94/94 [==============================] - 3s 34ms/step - loss: 32.6517 - root_mean_squared_error: 5.7142 - val_loss: 310.7915 - val_root_mean_squared_error: 17.6293\n",
      "Epoch 16/50\n",
      "90/94 [===========================>..] - ETA: 0s - loss: 23.2885 - root_mean_squared_error: 4.8258"
     ]
    },
    {
     "name": "stderr",
     "output_type": "stream",
     "text": [
      "WARNING:absl:Found untraced functions such as lstm_cell_layer_call_fn, lstm_cell_layer_call_and_return_conditional_losses while saving (showing 2 of 2). These functions will not be directly callable after loading.\n"
     ]
    },
    {
     "name": "stdout",
     "output_type": "stream",
     "text": [
      "INFO:tensorflow:Assets written to: model1/assets\n"
     ]
    },
    {
     "name": "stderr",
     "output_type": "stream",
     "text": [
      "INFO:tensorflow:Assets written to: model1/assets\n",
      "WARNING:absl:<keras.layers.recurrent.LSTMCell object at 0x12e64c970> has the same name 'LSTMCell' as a built-in Keras object. Consider renaming <class 'keras.layers.recurrent.LSTMCell'> to avoid naming conflicts when loading with `tf.keras.models.load_model`. If renaming is not possible, pass the object in the `custom_objects` parameter of the load function.\n"
     ]
    },
    {
     "name": "stdout",
     "output_type": "stream",
     "text": [
      "94/94 [==============================] - 3s 33ms/step - loss: 23.0286 - root_mean_squared_error: 4.7988 - val_loss: 310.2166 - val_root_mean_squared_error: 17.6130\n",
      "Epoch 17/50\n",
      "89/94 [===========================>..] - ETA: 0s - loss: 16.3700 - root_mean_squared_error: 4.0460"
     ]
    },
    {
     "name": "stderr",
     "output_type": "stream",
     "text": [
      "WARNING:absl:Found untraced functions such as lstm_cell_layer_call_fn, lstm_cell_layer_call_and_return_conditional_losses while saving (showing 2 of 2). These functions will not be directly callable after loading.\n"
     ]
    },
    {
     "name": "stdout",
     "output_type": "stream",
     "text": [
      "INFO:tensorflow:Assets written to: model1/assets\n"
     ]
    },
    {
     "name": "stderr",
     "output_type": "stream",
     "text": [
      "INFO:tensorflow:Assets written to: model1/assets\n",
      "WARNING:absl:<keras.layers.recurrent.LSTMCell object at 0x12e64c970> has the same name 'LSTMCell' as a built-in Keras object. Consider renaming <class 'keras.layers.recurrent.LSTMCell'> to avoid naming conflicts when loading with `tf.keras.models.load_model`. If renaming is not possible, pass the object in the `custom_objects` parameter of the load function.\n"
     ]
    },
    {
     "name": "stdout",
     "output_type": "stream",
     "text": [
      "94/94 [==============================] - 3s 31ms/step - loss: 16.1585 - root_mean_squared_error: 4.0198 - val_loss: 309.7311 - val_root_mean_squared_error: 17.5992\n",
      "Epoch 18/50\n",
      "85/94 [==========================>...] - ETA: 0s - loss: 11.5483 - root_mean_squared_error: 3.3983"
     ]
    },
    {
     "name": "stderr",
     "output_type": "stream",
     "text": [
      "WARNING:absl:Found untraced functions such as lstm_cell_layer_call_fn, lstm_cell_layer_call_and_return_conditional_losses while saving (showing 2 of 2). These functions will not be directly callable after loading.\n"
     ]
    },
    {
     "name": "stdout",
     "output_type": "stream",
     "text": [
      "INFO:tensorflow:Assets written to: model1/assets\n"
     ]
    },
    {
     "name": "stderr",
     "output_type": "stream",
     "text": [
      "INFO:tensorflow:Assets written to: model1/assets\n",
      "WARNING:absl:<keras.layers.recurrent.LSTMCell object at 0x12e64c970> has the same name 'LSTMCell' as a built-in Keras object. Consider renaming <class 'keras.layers.recurrent.LSTMCell'> to avoid naming conflicts when loading with `tf.keras.models.load_model`. If renaming is not possible, pass the object in the `custom_objects` parameter of the load function.\n"
     ]
    },
    {
     "name": "stdout",
     "output_type": "stream",
     "text": [
      "94/94 [==============================] - 3s 35ms/step - loss: 11.3190 - root_mean_squared_error: 3.3644 - val_loss: 309.3635 - val_root_mean_squared_error: 17.5887\n",
      "Epoch 19/50\n",
      "80/94 [========================>.....] - ETA: 0s - loss: 8.0976 - root_mean_squared_error: 2.8456"
     ]
    },
    {
     "name": "stderr",
     "output_type": "stream",
     "text": [
      "WARNING:absl:Found untraced functions such as lstm_cell_layer_call_fn, lstm_cell_layer_call_and_return_conditional_losses while saving (showing 2 of 2). These functions will not be directly callable after loading.\n"
     ]
    },
    {
     "name": "stdout",
     "output_type": "stream",
     "text": [
      "INFO:tensorflow:Assets written to: model1/assets\n"
     ]
    },
    {
     "name": "stderr",
     "output_type": "stream",
     "text": [
      "INFO:tensorflow:Assets written to: model1/assets\n",
      "WARNING:absl:<keras.layers.recurrent.LSTMCell object at 0x12e64c970> has the same name 'LSTMCell' as a built-in Keras object. Consider renaming <class 'keras.layers.recurrent.LSTMCell'> to avoid naming conflicts when loading with `tf.keras.models.load_model`. If renaming is not possible, pass the object in the `custom_objects` parameter of the load function.\n"
     ]
    },
    {
     "name": "stdout",
     "output_type": "stream",
     "text": [
      "94/94 [==============================] - 3s 34ms/step - loss: 7.9844 - root_mean_squared_error: 2.8257 - val_loss: 308.7817 - val_root_mean_squared_error: 17.5722\n",
      "Epoch 20/50\n",
      "90/94 [===========================>..] - ETA: 0s - loss: 5.7929 - root_mean_squared_error: 2.4069"
     ]
    },
    {
     "name": "stderr",
     "output_type": "stream",
     "text": [
      "WARNING:absl:Found untraced functions such as lstm_cell_layer_call_fn, lstm_cell_layer_call_and_return_conditional_losses while saving (showing 2 of 2). These functions will not be directly callable after loading.\n"
     ]
    },
    {
     "name": "stdout",
     "output_type": "stream",
     "text": [
      "INFO:tensorflow:Assets written to: model1/assets\n"
     ]
    },
    {
     "name": "stderr",
     "output_type": "stream",
     "text": [
      "INFO:tensorflow:Assets written to: model1/assets\n",
      "WARNING:absl:<keras.layers.recurrent.LSTMCell object at 0x12e64c970> has the same name 'LSTMCell' as a built-in Keras object. Consider renaming <class 'keras.layers.recurrent.LSTMCell'> to avoid naming conflicts when loading with `tf.keras.models.load_model`. If renaming is not possible, pass the object in the `custom_objects` parameter of the load function.\n"
     ]
    },
    {
     "name": "stdout",
     "output_type": "stream",
     "text": [
      "94/94 [==============================] - 3s 37ms/step - loss: 5.7506 - root_mean_squared_error: 2.3980 - val_loss: 308.3485 - val_root_mean_squared_error: 17.5599\n",
      "Epoch 21/50\n",
      "89/94 [===========================>..] - ETA: 0s - loss: 4.2781 - root_mean_squared_error: 2.0684"
     ]
    },
    {
     "name": "stderr",
     "output_type": "stream",
     "text": [
      "WARNING:absl:Found untraced functions such as lstm_cell_layer_call_fn, lstm_cell_layer_call_and_return_conditional_losses while saving (showing 2 of 2). These functions will not be directly callable after loading.\n"
     ]
    },
    {
     "name": "stdout",
     "output_type": "stream",
     "text": [
      "INFO:tensorflow:Assets written to: model1/assets\n"
     ]
    },
    {
     "name": "stderr",
     "output_type": "stream",
     "text": [
      "INFO:tensorflow:Assets written to: model1/assets\n",
      "WARNING:absl:<keras.layers.recurrent.LSTMCell object at 0x12e64c970> has the same name 'LSTMCell' as a built-in Keras object. Consider renaming <class 'keras.layers.recurrent.LSTMCell'> to avoid naming conflicts when loading with `tf.keras.models.load_model`. If renaming is not possible, pass the object in the `custom_objects` parameter of the load function.\n"
     ]
    },
    {
     "name": "stdout",
     "output_type": "stream",
     "text": [
      "94/94 [==============================] - 3s 31ms/step - loss: 4.2716 - root_mean_squared_error: 2.0668 - val_loss: 307.8980 - val_root_mean_squared_error: 17.5470\n",
      "Epoch 22/50\n",
      "89/94 [===========================>..] - ETA: 0s - loss: 3.2063 - root_mean_squared_error: 1.7906"
     ]
    },
    {
     "name": "stderr",
     "output_type": "stream",
     "text": [
      "WARNING:absl:Found untraced functions such as lstm_cell_layer_call_fn, lstm_cell_layer_call_and_return_conditional_losses while saving (showing 2 of 2). These functions will not be directly callable after loading.\n"
     ]
    },
    {
     "name": "stdout",
     "output_type": "stream",
     "text": [
      "INFO:tensorflow:Assets written to: model1/assets\n"
     ]
    },
    {
     "name": "stderr",
     "output_type": "stream",
     "text": [
      "INFO:tensorflow:Assets written to: model1/assets\n",
      "WARNING:absl:<keras.layers.recurrent.LSTMCell object at 0x12e64c970> has the same name 'LSTMCell' as a built-in Keras object. Consider renaming <class 'keras.layers.recurrent.LSTMCell'> to avoid naming conflicts when loading with `tf.keras.models.load_model`. If renaming is not possible, pass the object in the `custom_objects` parameter of the load function.\n"
     ]
    },
    {
     "name": "stdout",
     "output_type": "stream",
     "text": [
      "94/94 [==============================] - 3s 34ms/step - loss: 3.2922 - root_mean_squared_error: 1.8144 - val_loss: 307.2988 - val_root_mean_squared_error: 17.5299\n",
      "Epoch 23/50\n",
      "89/94 [===========================>..] - ETA: 0s - loss: 2.6279 - root_mean_squared_error: 1.6211"
     ]
    },
    {
     "name": "stderr",
     "output_type": "stream",
     "text": [
      "WARNING:absl:Found untraced functions such as lstm_cell_layer_call_fn, lstm_cell_layer_call_and_return_conditional_losses while saving (showing 2 of 2). These functions will not be directly callable after loading.\n"
     ]
    },
    {
     "name": "stdout",
     "output_type": "stream",
     "text": [
      "INFO:tensorflow:Assets written to: model1/assets\n"
     ]
    },
    {
     "name": "stderr",
     "output_type": "stream",
     "text": [
      "INFO:tensorflow:Assets written to: model1/assets\n",
      "WARNING:absl:<keras.layers.recurrent.LSTMCell object at 0x12e64c970> has the same name 'LSTMCell' as a built-in Keras object. Consider renaming <class 'keras.layers.recurrent.LSTMCell'> to avoid naming conflicts when loading with `tf.keras.models.load_model`. If renaming is not possible, pass the object in the `custom_objects` parameter of the load function.\n"
     ]
    },
    {
     "name": "stdout",
     "output_type": "stream",
     "text": [
      "94/94 [==============================] - 4s 39ms/step - loss: 2.6303 - root_mean_squared_error: 1.6218 - val_loss: 306.7367 - val_root_mean_squared_error: 17.5139\n",
      "Epoch 24/50\n",
      "80/94 [========================>.....] - ETA: 0s - loss: 2.1449 - root_mean_squared_error: 1.4645"
     ]
    },
    {
     "name": "stderr",
     "output_type": "stream",
     "text": [
      "WARNING:absl:Found untraced functions such as lstm_cell_layer_call_fn, lstm_cell_layer_call_and_return_conditional_losses while saving (showing 2 of 2). These functions will not be directly callable after loading.\n"
     ]
    },
    {
     "name": "stdout",
     "output_type": "stream",
     "text": [
      "INFO:tensorflow:Assets written to: model1/assets\n"
     ]
    },
    {
     "name": "stderr",
     "output_type": "stream",
     "text": [
      "INFO:tensorflow:Assets written to: model1/assets\n",
      "WARNING:absl:<keras.layers.recurrent.LSTMCell object at 0x12e64c970> has the same name 'LSTMCell' as a built-in Keras object. Consider renaming <class 'keras.layers.recurrent.LSTMCell'> to avoid naming conflicts when loading with `tf.keras.models.load_model`. If renaming is not possible, pass the object in the `custom_objects` parameter of the load function.\n"
     ]
    },
    {
     "name": "stdout",
     "output_type": "stream",
     "text": [
      "94/94 [==============================] - 3s 33ms/step - loss: 2.1690 - root_mean_squared_error: 1.4728 - val_loss: 306.2424 - val_root_mean_squared_error: 17.4998\n",
      "Epoch 25/50\n",
      "90/94 [===========================>..] - ETA: 0s - loss: 1.8377 - root_mean_squared_error: 1.3556"
     ]
    },
    {
     "name": "stderr",
     "output_type": "stream",
     "text": [
      "WARNING:absl:Found untraced functions such as lstm_cell_layer_call_fn, lstm_cell_layer_call_and_return_conditional_losses while saving (showing 2 of 2). These functions will not be directly callable after loading.\n"
     ]
    },
    {
     "name": "stdout",
     "output_type": "stream",
     "text": [
      "INFO:tensorflow:Assets written to: model1/assets\n"
     ]
    },
    {
     "name": "stderr",
     "output_type": "stream",
     "text": [
      "INFO:tensorflow:Assets written to: model1/assets\n",
      "WARNING:absl:<keras.layers.recurrent.LSTMCell object at 0x12e64c970> has the same name 'LSTMCell' as a built-in Keras object. Consider renaming <class 'keras.layers.recurrent.LSTMCell'> to avoid naming conflicts when loading with `tf.keras.models.load_model`. If renaming is not possible, pass the object in the `custom_objects` parameter of the load function.\n"
     ]
    },
    {
     "name": "stdout",
     "output_type": "stream",
     "text": [
      "94/94 [==============================] - 3s 32ms/step - loss: 1.8335 - root_mean_squared_error: 1.3541 - val_loss: 305.3730 - val_root_mean_squared_error: 17.4749\n",
      "Epoch 26/50\n",
      "92/94 [============================>.] - ETA: 0s - loss: 1.5935 - root_mean_squared_error: 1.2623"
     ]
    },
    {
     "name": "stderr",
     "output_type": "stream",
     "text": [
      "WARNING:absl:Found untraced functions such as lstm_cell_layer_call_fn, lstm_cell_layer_call_and_return_conditional_losses while saving (showing 2 of 2). These functions will not be directly callable after loading.\n"
     ]
    },
    {
     "name": "stdout",
     "output_type": "stream",
     "text": [
      "INFO:tensorflow:Assets written to: model1/assets\n"
     ]
    },
    {
     "name": "stderr",
     "output_type": "stream",
     "text": [
      "INFO:tensorflow:Assets written to: model1/assets\n",
      "WARNING:absl:<keras.layers.recurrent.LSTMCell object at 0x12e64c970> has the same name 'LSTMCell' as a built-in Keras object. Consider renaming <class 'keras.layers.recurrent.LSTMCell'> to avoid naming conflicts when loading with `tf.keras.models.load_model`. If renaming is not possible, pass the object in the `custom_objects` parameter of the load function.\n"
     ]
    },
    {
     "name": "stdout",
     "output_type": "stream",
     "text": [
      "94/94 [==============================] - 3s 34ms/step - loss: 1.5751 - root_mean_squared_error: 1.2550 - val_loss: 304.8650 - val_root_mean_squared_error: 17.4604\n",
      "Epoch 27/50\n",
      "90/94 [===========================>..] - ETA: 0s - loss: 1.3100 - root_mean_squared_error: 1.1446"
     ]
    },
    {
     "name": "stderr",
     "output_type": "stream",
     "text": [
      "WARNING:absl:Found untraced functions such as lstm_cell_layer_call_fn, lstm_cell_layer_call_and_return_conditional_losses while saving (showing 2 of 2). These functions will not be directly callable after loading.\n"
     ]
    },
    {
     "name": "stdout",
     "output_type": "stream",
     "text": [
      "INFO:tensorflow:Assets written to: model1/assets\n"
     ]
    },
    {
     "name": "stderr",
     "output_type": "stream",
     "text": [
      "INFO:tensorflow:Assets written to: model1/assets\n",
      "WARNING:absl:<keras.layers.recurrent.LSTMCell object at 0x12e64c970> has the same name 'LSTMCell' as a built-in Keras object. Consider renaming <class 'keras.layers.recurrent.LSTMCell'> to avoid naming conflicts when loading with `tf.keras.models.load_model`. If renaming is not possible, pass the object in the `custom_objects` parameter of the load function.\n"
     ]
    },
    {
     "name": "stdout",
     "output_type": "stream",
     "text": [
      "94/94 [==============================] - 3s 33ms/step - loss: 1.3646 - root_mean_squared_error: 1.1682 - val_loss: 304.4693 - val_root_mean_squared_error: 17.4490\n",
      "Epoch 28/50\n",
      "92/94 [============================>.] - ETA: 0s - loss: 1.1903 - root_mean_squared_error: 1.0910"
     ]
    },
    {
     "name": "stderr",
     "output_type": "stream",
     "text": [
      "WARNING:absl:Found untraced functions such as lstm_cell_layer_call_fn, lstm_cell_layer_call_and_return_conditional_losses while saving (showing 2 of 2). These functions will not be directly callable after loading.\n"
     ]
    },
    {
     "name": "stdout",
     "output_type": "stream",
     "text": [
      "INFO:tensorflow:Assets written to: model1/assets\n"
     ]
    },
    {
     "name": "stderr",
     "output_type": "stream",
     "text": [
      "INFO:tensorflow:Assets written to: model1/assets\n",
      "WARNING:absl:<keras.layers.recurrent.LSTMCell object at 0x12e64c970> has the same name 'LSTMCell' as a built-in Keras object. Consider renaming <class 'keras.layers.recurrent.LSTMCell'> to avoid naming conflicts when loading with `tf.keras.models.load_model`. If renaming is not possible, pass the object in the `custom_objects` parameter of the load function.\n"
     ]
    },
    {
     "name": "stdout",
     "output_type": "stream",
     "text": [
      "94/94 [==============================] - 3s 33ms/step - loss: 1.1917 - root_mean_squared_error: 1.0916 - val_loss: 303.9902 - val_root_mean_squared_error: 17.4353\n",
      "Epoch 29/50\n",
      "89/94 [===========================>..] - ETA: 0s - loss: 1.0433 - root_mean_squared_error: 1.0214"
     ]
    },
    {
     "name": "stderr",
     "output_type": "stream",
     "text": [
      "WARNING:absl:Found untraced functions such as lstm_cell_layer_call_fn, lstm_cell_layer_call_and_return_conditional_losses while saving (showing 2 of 2). These functions will not be directly callable after loading.\n"
     ]
    },
    {
     "name": "stdout",
     "output_type": "stream",
     "text": [
      "INFO:tensorflow:Assets written to: model1/assets\n"
     ]
    },
    {
     "name": "stderr",
     "output_type": "stream",
     "text": [
      "INFO:tensorflow:Assets written to: model1/assets\n",
      "WARNING:absl:<keras.layers.recurrent.LSTMCell object at 0x12e64c970> has the same name 'LSTMCell' as a built-in Keras object. Consider renaming <class 'keras.layers.recurrent.LSTMCell'> to avoid naming conflicts when loading with `tf.keras.models.load_model`. If renaming is not possible, pass the object in the `custom_objects` parameter of the load function.\n"
     ]
    },
    {
     "name": "stdout",
     "output_type": "stream",
     "text": [
      "94/94 [==============================] - 3s 32ms/step - loss: 1.0464 - root_mean_squared_error: 1.0229 - val_loss: 303.5497 - val_root_mean_squared_error: 17.4227\n",
      "Epoch 30/50\n",
      "90/94 [===========================>..] - ETA: 0s - loss: 0.9396 - root_mean_squared_error: 0.9693"
     ]
    },
    {
     "name": "stderr",
     "output_type": "stream",
     "text": [
      "WARNING:absl:Found untraced functions such as lstm_cell_layer_call_fn, lstm_cell_layer_call_and_return_conditional_losses while saving (showing 2 of 2). These functions will not be directly callable after loading.\n"
     ]
    },
    {
     "name": "stdout",
     "output_type": "stream",
     "text": [
      "INFO:tensorflow:Assets written to: model1/assets\n"
     ]
    },
    {
     "name": "stderr",
     "output_type": "stream",
     "text": [
      "INFO:tensorflow:Assets written to: model1/assets\n",
      "WARNING:absl:<keras.layers.recurrent.LSTMCell object at 0x12e64c970> has the same name 'LSTMCell' as a built-in Keras object. Consider renaming <class 'keras.layers.recurrent.LSTMCell'> to avoid naming conflicts when loading with `tf.keras.models.load_model`. If renaming is not possible, pass the object in the `custom_objects` parameter of the load function.\n"
     ]
    },
    {
     "name": "stdout",
     "output_type": "stream",
     "text": [
      "94/94 [==============================] - 3s 34ms/step - loss: 0.9243 - root_mean_squared_error: 0.9614 - val_loss: 303.1611 - val_root_mean_squared_error: 17.4115\n",
      "Epoch 31/50\n",
      "90/94 [===========================>..] - ETA: 0s - loss: 0.8246 - root_mean_squared_error: 0.9081"
     ]
    },
    {
     "name": "stderr",
     "output_type": "stream",
     "text": [
      "WARNING:absl:Found untraced functions such as lstm_cell_layer_call_fn, lstm_cell_layer_call_and_return_conditional_losses while saving (showing 2 of 2). These functions will not be directly callable after loading.\n"
     ]
    },
    {
     "name": "stdout",
     "output_type": "stream",
     "text": [
      "INFO:tensorflow:Assets written to: model1/assets\n"
     ]
    },
    {
     "name": "stderr",
     "output_type": "stream",
     "text": [
      "INFO:tensorflow:Assets written to: model1/assets\n",
      "WARNING:absl:<keras.layers.recurrent.LSTMCell object at 0x12e64c970> has the same name 'LSTMCell' as a built-in Keras object. Consider renaming <class 'keras.layers.recurrent.LSTMCell'> to avoid naming conflicts when loading with `tf.keras.models.load_model`. If renaming is not possible, pass the object in the `custom_objects` parameter of the load function.\n"
     ]
    },
    {
     "name": "stdout",
     "output_type": "stream",
     "text": [
      "94/94 [==============================] - 3s 34ms/step - loss: 0.8223 - root_mean_squared_error: 0.9068 - val_loss: 302.6748 - val_root_mean_squared_error: 17.3976\n",
      "Epoch 32/50\n",
      "91/94 [============================>.] - ETA: 0s - loss: 0.7413 - root_mean_squared_error: 0.8610"
     ]
    },
    {
     "name": "stderr",
     "output_type": "stream",
     "text": [
      "WARNING:absl:Found untraced functions such as lstm_cell_layer_call_fn, lstm_cell_layer_call_and_return_conditional_losses while saving (showing 2 of 2). These functions will not be directly callable after loading.\n"
     ]
    },
    {
     "name": "stdout",
     "output_type": "stream",
     "text": [
      "INFO:tensorflow:Assets written to: model1/assets\n"
     ]
    },
    {
     "name": "stderr",
     "output_type": "stream",
     "text": [
      "INFO:tensorflow:Assets written to: model1/assets\n",
      "WARNING:absl:<keras.layers.recurrent.LSTMCell object at 0x12e64c970> has the same name 'LSTMCell' as a built-in Keras object. Consider renaming <class 'keras.layers.recurrent.LSTMCell'> to avoid naming conflicts when loading with `tf.keras.models.load_model`. If renaming is not possible, pass the object in the `custom_objects` parameter of the load function.\n"
     ]
    },
    {
     "name": "stdout",
     "output_type": "stream",
     "text": [
      "94/94 [==============================] - 3s 36ms/step - loss: 0.7341 - root_mean_squared_error: 0.8568 - val_loss: 302.2633 - val_root_mean_squared_error: 17.3857\n",
      "Epoch 33/50\n",
      "86/94 [==========================>...] - ETA: 0s - loss: 0.6836 - root_mean_squared_error: 0.8268"
     ]
    },
    {
     "name": "stderr",
     "output_type": "stream",
     "text": [
      "WARNING:absl:Found untraced functions such as lstm_cell_layer_call_fn, lstm_cell_layer_call_and_return_conditional_losses while saving (showing 2 of 2). These functions will not be directly callable after loading.\n"
     ]
    },
    {
     "name": "stdout",
     "output_type": "stream",
     "text": [
      "INFO:tensorflow:Assets written to: model1/assets\n"
     ]
    },
    {
     "name": "stderr",
     "output_type": "stream",
     "text": [
      "INFO:tensorflow:Assets written to: model1/assets\n",
      "WARNING:absl:<keras.layers.recurrent.LSTMCell object at 0x12e64c970> has the same name 'LSTMCell' as a built-in Keras object. Consider renaming <class 'keras.layers.recurrent.LSTMCell'> to avoid naming conflicts when loading with `tf.keras.models.load_model`. If renaming is not possible, pass the object in the `custom_objects` parameter of the load function.\n"
     ]
    },
    {
     "name": "stdout",
     "output_type": "stream",
     "text": [
      "94/94 [==============================] - 3s 33ms/step - loss: 0.6591 - root_mean_squared_error: 0.8119 - val_loss: 301.8113 - val_root_mean_squared_error: 17.3727\n",
      "Epoch 34/50\n",
      "84/94 [=========================>....] - ETA: 0s - loss: 0.5709 - root_mean_squared_error: 0.7556"
     ]
    },
    {
     "name": "stderr",
     "output_type": "stream",
     "text": [
      "WARNING:absl:Found untraced functions such as lstm_cell_layer_call_fn, lstm_cell_layer_call_and_return_conditional_losses while saving (showing 2 of 2). These functions will not be directly callable after loading.\n"
     ]
    },
    {
     "name": "stdout",
     "output_type": "stream",
     "text": [
      "INFO:tensorflow:Assets written to: model1/assets\n"
     ]
    },
    {
     "name": "stderr",
     "output_type": "stream",
     "text": [
      "INFO:tensorflow:Assets written to: model1/assets\n",
      "WARNING:absl:<keras.layers.recurrent.LSTMCell object at 0x12e64c970> has the same name 'LSTMCell' as a built-in Keras object. Consider renaming <class 'keras.layers.recurrent.LSTMCell'> to avoid naming conflicts when loading with `tf.keras.models.load_model`. If renaming is not possible, pass the object in the `custom_objects` parameter of the load function.\n"
     ]
    },
    {
     "name": "stdout",
     "output_type": "stream",
     "text": [
      "94/94 [==============================] - 4s 40ms/step - loss: 0.5935 - root_mean_squared_error: 0.7704 - val_loss: 301.3057 - val_root_mean_squared_error: 17.3582\n",
      "Epoch 35/50\n",
      "85/94 [==========================>...] - ETA: 0s - loss: 0.5766 - root_mean_squared_error: 0.7593"
     ]
    },
    {
     "name": "stderr",
     "output_type": "stream",
     "text": [
      "WARNING:absl:Found untraced functions such as lstm_cell_layer_call_fn, lstm_cell_layer_call_and_return_conditional_losses while saving (showing 2 of 2). These functions will not be directly callable after loading.\n"
     ]
    },
    {
     "name": "stdout",
     "output_type": "stream",
     "text": [
      "INFO:tensorflow:Assets written to: model1/assets\n"
     ]
    },
    {
     "name": "stderr",
     "output_type": "stream",
     "text": [
      "INFO:tensorflow:Assets written to: model1/assets\n",
      "WARNING:absl:<keras.layers.recurrent.LSTMCell object at 0x12e64c970> has the same name 'LSTMCell' as a built-in Keras object. Consider renaming <class 'keras.layers.recurrent.LSTMCell'> to avoid naming conflicts when loading with `tf.keras.models.load_model`. If renaming is not possible, pass the object in the `custom_objects` parameter of the load function.\n"
     ]
    },
    {
     "name": "stdout",
     "output_type": "stream",
     "text": [
      "94/94 [==============================] - 4s 38ms/step - loss: 0.5378 - root_mean_squared_error: 0.7334 - val_loss: 300.9015 - val_root_mean_squared_error: 17.3465\n",
      "Epoch 36/50\n",
      "88/94 [===========================>..] - ETA: 0s - loss: 0.4913 - root_mean_squared_error: 0.7009"
     ]
    },
    {
     "name": "stderr",
     "output_type": "stream",
     "text": [
      "WARNING:absl:Found untraced functions such as lstm_cell_layer_call_fn, lstm_cell_layer_call_and_return_conditional_losses while saving (showing 2 of 2). These functions will not be directly callable after loading.\n"
     ]
    },
    {
     "name": "stdout",
     "output_type": "stream",
     "text": [
      "INFO:tensorflow:Assets written to: model1/assets\n"
     ]
    },
    {
     "name": "stderr",
     "output_type": "stream",
     "text": [
      "INFO:tensorflow:Assets written to: model1/assets\n",
      "WARNING:absl:<keras.layers.recurrent.LSTMCell object at 0x12e64c970> has the same name 'LSTMCell' as a built-in Keras object. Consider renaming <class 'keras.layers.recurrent.LSTMCell'> to avoid naming conflicts when loading with `tf.keras.models.load_model`. If renaming is not possible, pass the object in the `custom_objects` parameter of the load function.\n"
     ]
    },
    {
     "name": "stdout",
     "output_type": "stream",
     "text": [
      "94/94 [==============================] - 3s 38ms/step - loss: 0.4884 - root_mean_squared_error: 0.6989 - val_loss: 300.4931 - val_root_mean_squared_error: 17.3347\n",
      "Epoch 37/50\n",
      "83/94 [=========================>....] - ETA: 0s - loss: 0.4660 - root_mean_squared_error: 0.6826"
     ]
    },
    {
     "name": "stderr",
     "output_type": "stream",
     "text": [
      "WARNING:absl:Found untraced functions such as lstm_cell_layer_call_fn, lstm_cell_layer_call_and_return_conditional_losses while saving (showing 2 of 2). These functions will not be directly callable after loading.\n"
     ]
    },
    {
     "name": "stdout",
     "output_type": "stream",
     "text": [
      "INFO:tensorflow:Assets written to: model1/assets\n"
     ]
    },
    {
     "name": "stderr",
     "output_type": "stream",
     "text": [
      "INFO:tensorflow:Assets written to: model1/assets\n",
      "WARNING:absl:<keras.layers.recurrent.LSTMCell object at 0x12e64c970> has the same name 'LSTMCell' as a built-in Keras object. Consider renaming <class 'keras.layers.recurrent.LSTMCell'> to avoid naming conflicts when loading with `tf.keras.models.load_model`. If renaming is not possible, pass the object in the `custom_objects` parameter of the load function.\n"
     ]
    },
    {
     "name": "stdout",
     "output_type": "stream",
     "text": [
      "94/94 [==============================] - 3s 34ms/step - loss: 0.4468 - root_mean_squared_error: 0.6684 - val_loss: 300.0972 - val_root_mean_squared_error: 17.3233\n",
      "Epoch 38/50\n",
      "90/94 [===========================>..] - ETA: 0s - loss: 0.4129 - root_mean_squared_error: 0.6425"
     ]
    },
    {
     "name": "stderr",
     "output_type": "stream",
     "text": [
      "WARNING:absl:Found untraced functions such as lstm_cell_layer_call_fn, lstm_cell_layer_call_and_return_conditional_losses while saving (showing 2 of 2). These functions will not be directly callable after loading.\n"
     ]
    },
    {
     "name": "stdout",
     "output_type": "stream",
     "text": [
      "INFO:tensorflow:Assets written to: model1/assets\n"
     ]
    },
    {
     "name": "stderr",
     "output_type": "stream",
     "text": [
      "INFO:tensorflow:Assets written to: model1/assets\n",
      "WARNING:absl:<keras.layers.recurrent.LSTMCell object at 0x12e64c970> has the same name 'LSTMCell' as a built-in Keras object. Consider renaming <class 'keras.layers.recurrent.LSTMCell'> to avoid naming conflicts when loading with `tf.keras.models.load_model`. If renaming is not possible, pass the object in the `custom_objects` parameter of the load function.\n"
     ]
    },
    {
     "name": "stdout",
     "output_type": "stream",
     "text": [
      "94/94 [==============================] - 3s 37ms/step - loss: 0.4070 - root_mean_squared_error: 0.6379 - val_loss: 299.6778 - val_root_mean_squared_error: 17.3112\n",
      "Epoch 39/50\n",
      "91/94 [============================>.] - ETA: 0s - loss: 0.3794 - root_mean_squared_error: 0.6160"
     ]
    },
    {
     "name": "stderr",
     "output_type": "stream",
     "text": [
      "WARNING:absl:Found untraced functions such as lstm_cell_layer_call_fn, lstm_cell_layer_call_and_return_conditional_losses while saving (showing 2 of 2). These functions will not be directly callable after loading.\n"
     ]
    },
    {
     "name": "stdout",
     "output_type": "stream",
     "text": [
      "INFO:tensorflow:Assets written to: model1/assets\n"
     ]
    },
    {
     "name": "stderr",
     "output_type": "stream",
     "text": [
      "INFO:tensorflow:Assets written to: model1/assets\n",
      "WARNING:absl:<keras.layers.recurrent.LSTMCell object at 0x12e64c970> has the same name 'LSTMCell' as a built-in Keras object. Consider renaming <class 'keras.layers.recurrent.LSTMCell'> to avoid naming conflicts when loading with `tf.keras.models.load_model`. If renaming is not possible, pass the object in the `custom_objects` parameter of the load function.\n"
     ]
    },
    {
     "name": "stdout",
     "output_type": "stream",
     "text": [
      "94/94 [==============================] - 3s 35ms/step - loss: 0.3729 - root_mean_squared_error: 0.6107 - val_loss: 299.3340 - val_root_mean_squared_error: 17.3013\n",
      "Epoch 40/50\n",
      "89/94 [===========================>..] - ETA: 0s - loss: 0.3409 - root_mean_squared_error: 0.5839"
     ]
    },
    {
     "name": "stderr",
     "output_type": "stream",
     "text": [
      "WARNING:absl:Found untraced functions such as lstm_cell_layer_call_fn, lstm_cell_layer_call_and_return_conditional_losses while saving (showing 2 of 2). These functions will not be directly callable after loading.\n"
     ]
    },
    {
     "name": "stdout",
     "output_type": "stream",
     "text": [
      "INFO:tensorflow:Assets written to: model1/assets\n"
     ]
    },
    {
     "name": "stderr",
     "output_type": "stream",
     "text": [
      "INFO:tensorflow:Assets written to: model1/assets\n",
      "WARNING:absl:<keras.layers.recurrent.LSTMCell object at 0x12e64c970> has the same name 'LSTMCell' as a built-in Keras object. Consider renaming <class 'keras.layers.recurrent.LSTMCell'> to avoid naming conflicts when loading with `tf.keras.models.load_model`. If renaming is not possible, pass the object in the `custom_objects` parameter of the load function.\n"
     ]
    },
    {
     "name": "stdout",
     "output_type": "stream",
     "text": [
      "94/94 [==============================] - 4s 39ms/step - loss: 0.3430 - root_mean_squared_error: 0.5856 - val_loss: 298.9763 - val_root_mean_squared_error: 17.2909\n",
      "Epoch 41/50\n",
      "93/94 [============================>.] - ETA: 0s - loss: 0.3161 - root_mean_squared_error: 0.5622"
     ]
    },
    {
     "name": "stderr",
     "output_type": "stream",
     "text": [
      "WARNING:absl:Found untraced functions such as lstm_cell_layer_call_fn, lstm_cell_layer_call_and_return_conditional_losses while saving (showing 2 of 2). These functions will not be directly callable after loading.\n"
     ]
    },
    {
     "name": "stdout",
     "output_type": "stream",
     "text": [
      "INFO:tensorflow:Assets written to: model1/assets\n"
     ]
    },
    {
     "name": "stderr",
     "output_type": "stream",
     "text": [
      "INFO:tensorflow:Assets written to: model1/assets\n",
      "WARNING:absl:<keras.layers.recurrent.LSTMCell object at 0x12e64c970> has the same name 'LSTMCell' as a built-in Keras object. Consider renaming <class 'keras.layers.recurrent.LSTMCell'> to avoid naming conflicts when loading with `tf.keras.models.load_model`. If renaming is not possible, pass the object in the `custom_objects` parameter of the load function.\n"
     ]
    },
    {
     "name": "stdout",
     "output_type": "stream",
     "text": [
      "94/94 [==============================] - 3s 35ms/step - loss: 0.3161 - root_mean_squared_error: 0.5622 - val_loss: 298.6264 - val_root_mean_squared_error: 17.2808\n",
      "Epoch 42/50\n",
      "93/94 [============================>.] - ETA: 0s - loss: 0.2935 - root_mean_squared_error: 0.5418"
     ]
    },
    {
     "name": "stderr",
     "output_type": "stream",
     "text": [
      "WARNING:absl:Found untraced functions such as lstm_cell_layer_call_fn, lstm_cell_layer_call_and_return_conditional_losses while saving (showing 2 of 2). These functions will not be directly callable after loading.\n"
     ]
    },
    {
     "name": "stdout",
     "output_type": "stream",
     "text": [
      "INFO:tensorflow:Assets written to: model1/assets\n"
     ]
    },
    {
     "name": "stderr",
     "output_type": "stream",
     "text": [
      "INFO:tensorflow:Assets written to: model1/assets\n",
      "WARNING:absl:<keras.layers.recurrent.LSTMCell object at 0x12e64c970> has the same name 'LSTMCell' as a built-in Keras object. Consider renaming <class 'keras.layers.recurrent.LSTMCell'> to avoid naming conflicts when loading with `tf.keras.models.load_model`. If renaming is not possible, pass the object in the `custom_objects` parameter of the load function.\n"
     ]
    },
    {
     "name": "stdout",
     "output_type": "stream",
     "text": [
      "94/94 [==============================] - 4s 38ms/step - loss: 0.2919 - root_mean_squared_error: 0.5403 - val_loss: 298.3121 - val_root_mean_squared_error: 17.2717\n",
      "Epoch 43/50\n",
      "88/94 [===========================>..] - ETA: 0s - loss: 0.2739 - root_mean_squared_error: 0.5234"
     ]
    },
    {
     "name": "stderr",
     "output_type": "stream",
     "text": [
      "WARNING:absl:Found untraced functions such as lstm_cell_layer_call_fn, lstm_cell_layer_call_and_return_conditional_losses while saving (showing 2 of 2). These functions will not be directly callable after loading.\n"
     ]
    },
    {
     "name": "stdout",
     "output_type": "stream",
     "text": [
      "INFO:tensorflow:Assets written to: model1/assets\n"
     ]
    },
    {
     "name": "stderr",
     "output_type": "stream",
     "text": [
      "INFO:tensorflow:Assets written to: model1/assets\n",
      "WARNING:absl:<keras.layers.recurrent.LSTMCell object at 0x12e64c970> has the same name 'LSTMCell' as a built-in Keras object. Consider renaming <class 'keras.layers.recurrent.LSTMCell'> to avoid naming conflicts when loading with `tf.keras.models.load_model`. If renaming is not possible, pass the object in the `custom_objects` parameter of the load function.\n"
     ]
    },
    {
     "name": "stdout",
     "output_type": "stream",
     "text": [
      "94/94 [==============================] - 3s 36ms/step - loss: 0.2700 - root_mean_squared_error: 0.5196 - val_loss: 297.9800 - val_root_mean_squared_error: 17.2621\n",
      "Epoch 44/50\n",
      "91/94 [============================>.] - ETA: 0s - loss: 0.2571 - root_mean_squared_error: 0.5071"
     ]
    },
    {
     "name": "stderr",
     "output_type": "stream",
     "text": [
      "WARNING:absl:Found untraced functions such as lstm_cell_layer_call_fn, lstm_cell_layer_call_and_return_conditional_losses while saving (showing 2 of 2). These functions will not be directly callable after loading.\n"
     ]
    },
    {
     "name": "stdout",
     "output_type": "stream",
     "text": [
      "INFO:tensorflow:Assets written to: model1/assets\n"
     ]
    },
    {
     "name": "stderr",
     "output_type": "stream",
     "text": [
      "INFO:tensorflow:Assets written to: model1/assets\n",
      "WARNING:absl:<keras.layers.recurrent.LSTMCell object at 0x12e64c970> has the same name 'LSTMCell' as a built-in Keras object. Consider renaming <class 'keras.layers.recurrent.LSTMCell'> to avoid naming conflicts when loading with `tf.keras.models.load_model`. If renaming is not possible, pass the object in the `custom_objects` parameter of the load function.\n"
     ]
    },
    {
     "name": "stdout",
     "output_type": "stream",
     "text": [
      "94/94 [==============================] - 4s 40ms/step - loss: 0.2511 - root_mean_squared_error: 0.5011 - val_loss: 297.7156 - val_root_mean_squared_error: 17.2544\n",
      "Epoch 45/50\n",
      "86/94 [==========================>...] - ETA: 0s - loss: 0.2373 - root_mean_squared_error: 0.4872"
     ]
    },
    {
     "name": "stderr",
     "output_type": "stream",
     "text": [
      "WARNING:absl:Found untraced functions such as lstm_cell_layer_call_fn, lstm_cell_layer_call_and_return_conditional_losses while saving (showing 2 of 2). These functions will not be directly callable after loading.\n"
     ]
    },
    {
     "name": "stdout",
     "output_type": "stream",
     "text": [
      "INFO:tensorflow:Assets written to: model1/assets\n"
     ]
    },
    {
     "name": "stderr",
     "output_type": "stream",
     "text": [
      "INFO:tensorflow:Assets written to: model1/assets\n",
      "WARNING:absl:<keras.layers.recurrent.LSTMCell object at 0x12e64c970> has the same name 'LSTMCell' as a built-in Keras object. Consider renaming <class 'keras.layers.recurrent.LSTMCell'> to avoid naming conflicts when loading with `tf.keras.models.load_model`. If renaming is not possible, pass the object in the `custom_objects` parameter of the load function.\n"
     ]
    },
    {
     "name": "stdout",
     "output_type": "stream",
     "text": [
      "94/94 [==============================] - 4s 38ms/step - loss: 0.2346 - root_mean_squared_error: 0.4843 - val_loss: 297.3070 - val_root_mean_squared_error: 17.2426\n",
      "Epoch 46/50\n",
      "93/94 [============================>.] - ETA: 0s - loss: 0.2202 - root_mean_squared_error: 0.4692"
     ]
    },
    {
     "name": "stderr",
     "output_type": "stream",
     "text": [
      "WARNING:absl:Found untraced functions such as lstm_cell_layer_call_fn, lstm_cell_layer_call_and_return_conditional_losses while saving (showing 2 of 2). These functions will not be directly callable after loading.\n"
     ]
    },
    {
     "name": "stdout",
     "output_type": "stream",
     "text": [
      "INFO:tensorflow:Assets written to: model1/assets\n"
     ]
    },
    {
     "name": "stderr",
     "output_type": "stream",
     "text": [
      "INFO:tensorflow:Assets written to: model1/assets\n",
      "WARNING:absl:<keras.layers.recurrent.LSTMCell object at 0x12e64c970> has the same name 'LSTMCell' as a built-in Keras object. Consider renaming <class 'keras.layers.recurrent.LSTMCell'> to avoid naming conflicts when loading with `tf.keras.models.load_model`. If renaming is not possible, pass the object in the `custom_objects` parameter of the load function.\n"
     ]
    },
    {
     "name": "stdout",
     "output_type": "stream",
     "text": [
      "94/94 [==============================] - 4s 38ms/step - loss: 0.2185 - root_mean_squared_error: 0.4674 - val_loss: 297.0020 - val_root_mean_squared_error: 17.2337\n",
      "Epoch 47/50\n",
      "86/94 [==========================>...] - ETA: 0s - loss: 0.2042 - root_mean_squared_error: 0.4519"
     ]
    },
    {
     "name": "stderr",
     "output_type": "stream",
     "text": [
      "WARNING:absl:Found untraced functions such as lstm_cell_layer_call_fn, lstm_cell_layer_call_and_return_conditional_losses while saving (showing 2 of 2). These functions will not be directly callable after loading.\n"
     ]
    },
    {
     "name": "stdout",
     "output_type": "stream",
     "text": [
      "INFO:tensorflow:Assets written to: model1/assets\n"
     ]
    },
    {
     "name": "stderr",
     "output_type": "stream",
     "text": [
      "INFO:tensorflow:Assets written to: model1/assets\n",
      "WARNING:absl:<keras.layers.recurrent.LSTMCell object at 0x12e64c970> has the same name 'LSTMCell' as a built-in Keras object. Consider renaming <class 'keras.layers.recurrent.LSTMCell'> to avoid naming conflicts when loading with `tf.keras.models.load_model`. If renaming is not possible, pass the object in the `custom_objects` parameter of the load function.\n"
     ]
    },
    {
     "name": "stdout",
     "output_type": "stream",
     "text": [
      "94/94 [==============================] - 3s 37ms/step - loss: 0.2042 - root_mean_squared_error: 0.4519 - val_loss: 296.7812 - val_root_mean_squared_error: 17.2273\n",
      "Epoch 48/50\n",
      "91/94 [============================>.] - ETA: 0s - loss: 0.1739 - root_mean_squared_error: 0.4171"
     ]
    },
    {
     "name": "stderr",
     "output_type": "stream",
     "text": [
      "WARNING:absl:Found untraced functions such as lstm_cell_layer_call_fn, lstm_cell_layer_call_and_return_conditional_losses while saving (showing 2 of 2). These functions will not be directly callable after loading.\n"
     ]
    },
    {
     "name": "stdout",
     "output_type": "stream",
     "text": [
      "INFO:tensorflow:Assets written to: model1/assets\n"
     ]
    },
    {
     "name": "stderr",
     "output_type": "stream",
     "text": [
      "INFO:tensorflow:Assets written to: model1/assets\n",
      "WARNING:absl:<keras.layers.recurrent.LSTMCell object at 0x12e64c970> has the same name 'LSTMCell' as a built-in Keras object. Consider renaming <class 'keras.layers.recurrent.LSTMCell'> to avoid naming conflicts when loading with `tf.keras.models.load_model`. If renaming is not possible, pass the object in the `custom_objects` parameter of the load function.\n"
     ]
    },
    {
     "name": "stdout",
     "output_type": "stream",
     "text": [
      "94/94 [==============================] - 3s 37ms/step - loss: 0.1925 - root_mean_squared_error: 0.4387 - val_loss: 296.4798 - val_root_mean_squared_error: 17.2186\n",
      "Epoch 49/50\n",
      "88/94 [===========================>..] - ETA: 0s - loss: 0.1845 - root_mean_squared_error: 0.4296"
     ]
    },
    {
     "name": "stderr",
     "output_type": "stream",
     "text": [
      "WARNING:absl:Found untraced functions such as lstm_cell_layer_call_fn, lstm_cell_layer_call_and_return_conditional_losses while saving (showing 2 of 2). These functions will not be directly callable after loading.\n"
     ]
    },
    {
     "name": "stdout",
     "output_type": "stream",
     "text": [
      "INFO:tensorflow:Assets written to: model1/assets\n"
     ]
    },
    {
     "name": "stderr",
     "output_type": "stream",
     "text": [
      "INFO:tensorflow:Assets written to: model1/assets\n",
      "WARNING:absl:<keras.layers.recurrent.LSTMCell object at 0x12e64c970> has the same name 'LSTMCell' as a built-in Keras object. Consider renaming <class 'keras.layers.recurrent.LSTMCell'> to avoid naming conflicts when loading with `tf.keras.models.load_model`. If renaming is not possible, pass the object in the `custom_objects` parameter of the load function.\n"
     ]
    },
    {
     "name": "stdout",
     "output_type": "stream",
     "text": [
      "94/94 [==============================] - 3s 33ms/step - loss: 0.1798 - root_mean_squared_error: 0.4241 - val_loss: 296.1958 - val_root_mean_squared_error: 17.2103\n",
      "Epoch 50/50\n",
      "92/94 [============================>.] - ETA: 0s - loss: 0.1690 - root_mean_squared_error: 0.4111"
     ]
    },
    {
     "name": "stderr",
     "output_type": "stream",
     "text": [
      "WARNING:absl:Found untraced functions such as lstm_cell_layer_call_fn, lstm_cell_layer_call_and_return_conditional_losses while saving (showing 2 of 2). These functions will not be directly callable after loading.\n"
     ]
    },
    {
     "name": "stdout",
     "output_type": "stream",
     "text": [
      "INFO:tensorflow:Assets written to: model1/assets\n"
     ]
    },
    {
     "name": "stderr",
     "output_type": "stream",
     "text": [
      "INFO:tensorflow:Assets written to: model1/assets\n",
      "WARNING:absl:<keras.layers.recurrent.LSTMCell object at 0x12e64c970> has the same name 'LSTMCell' as a built-in Keras object. Consider renaming <class 'keras.layers.recurrent.LSTMCell'> to avoid naming conflicts when loading with `tf.keras.models.load_model`. If renaming is not possible, pass the object in the `custom_objects` parameter of the load function.\n"
     ]
    },
    {
     "name": "stdout",
     "output_type": "stream",
     "text": [
      "\b\b\b\b\b\b\b\b\b\b\b\b\b\b\b\b\b\b\b\b\b\b\b\b\b\b\b\b\b\b\b\b\b\b\b\b\b\b\b\b\b\b\b\b\b\b\b\b\b\b\b\b\b\b\b\b\b\b\b\b\b\b\b\b\b\b\b\b\b\b\b\b\b\b\b\b\b\b\b\b\b\b\b\b\b\b\b\b\b\b\b\b\b\b\b\b\b\r",
      "94/94 [==============================] - 3s 35ms/step - loss: 0.1698 - root_mean_squared_error: 0.4121 - val_loss: 295.9666 - val_root_mean_squared_error: 17.2037\n"
     ]
    },
    {
     "data": {
      "text/plain": [
       "<keras.callbacks.History at 0x12e8b89a0>"
      ]
     },
     "execution_count": 16,
     "metadata": {},
     "output_type": "execute_result"
    }
   ],
   "source": [
    "model.fit(x_train, y_train, validation_data=(x_val, y_val), epochs=50, callbacks=[cp])"
   ]
  },
  {
   "cell_type": "code",
   "execution_count": 17,
   "metadata": {},
   "outputs": [],
   "source": [
    "from tensorflow.keras.models import load_model\n",
    "final_model = load_model('model1/')"
   ]
  },
  {
   "cell_type": "code",
   "execution_count": 18,
   "metadata": {},
   "outputs": [],
   "source": [
    "train=final_model.predict(x_train)#.flatten()\n",
    "val=final_model.predict(x_val)#.flatten()\n",
    "test=final_model.predict(x_test)#.flatten()"
   ]
  },
  {
   "cell_type": "code",
   "execution_count": 19,
   "metadata": {},
   "outputs": [
    {
     "data": {
      "text/plain": [
       "<matplotlib.legend.Legend at 0x12f92a7c0>"
      ]
     },
     "execution_count": 19,
     "metadata": {},
     "output_type": "execute_result"
    },
    {
     "data": {
      "image/png": "[encoded data removed]",
      "text/plain": [
       "<Figure size 720x360 with 1 Axes>"
      ]
     },
     "metadata": {},
     "output_type": "display_data"
    }
   ],
   "source": [
    "plt.figure(figsize=(10,5))\n",
    "plt.plot(y_train,'k',label='actual')\n",
    "plt.plot(train,label='predicted')\n",
    "plt.legend()"
   ]
  },
  {
   "cell_type": "code",
   "execution_count": 20,
   "metadata": {},
   "outputs": [
    {
     "data": {
      "text/plain": [
       "<matplotlib.legend.Legend at 0x12fa966d0>"
      ]
     },
     "execution_count": 20,
     "metadata": {},
     "output_type": "execute_result"
    },
    {
     "data": {
      "image/png": "[encoded data removed]",
      "text/plain": [
       "<Figure size 720x360 with 1 Axes>"
      ]
     },
     "metadata": {},
     "output_type": "display_data"
    }
   ],
   "source": [
    "plt.figure(figsize=(10,5))\n",
    "plt.plot(y_val,'k',label='actual')\n",
    "plt.plot(val,label='predicted')\n",
    "plt.legend()"
   ]
  },
  {
   "cell_type": "code",
   "execution_count": 21,
   "metadata": {},
   "outputs": [
    {
     "data": {
      "text/plain": [
       "<matplotlib.legend.Legend at 0x12f23c1c0>"
      ]
     },
     "execution_count": 21,
     "metadata": {},
     "output_type": "execute_result"
    },
    {
     "data": {
      "image/png": "[encoded data removed]",
      "text/plain": [
       "<Figure size 720x360 with 1 Axes>"
      ]
     },
     "metadata": {},
     "output_type": "display_data"
    }
   ],
   "source": [
    "plt.figure(figsize=(10,5))\n",
    "plt.plot(y_test,'k',label='actual')\n",
    "plt.plot(test,label='predicted')\n",
    "plt.legend()"
   ]
  },
  {
   "cell_type": "markdown",
   "metadata": {},
   "source": [
    "It is interesting to note that the model fails to predict negative values of _u_. This could be due to the fact that much of the training set has positive values of _u_ and the activation function. There are two ways to solve this issue. The first one is to increase the training set size to account for negative values also. But that is not a viable option as the dataset itself is for a short window. The other option is to apply a relevant scaling to keep all values positive. "
   ]
  },
  {
   "cell_type": "markdown",
   "metadata": {},
   "source": [
    "### Scaled velocity"
   ]
  },
  {
   "cell_type": "code",
   "execution_count": 22,
   "metadata": {},
   "outputs": [],
   "source": [
    "# min-max scaling\n",
    "df['U_scaled']=(df.u-df.u.min())/(df.u.max()-df.u.min())\n",
    "ws=10\n",
    "inU,outU = df_to_x_y(df['U_scaled'],ws)"
   ]
  },
  {
   "cell_type": "code",
   "execution_count": 23,
   "metadata": {},
   "outputs": [],
   "source": [
    "u_train,y_train = inU[:3000],outU[:3000]\n",
    "u_val,y_val = inU[3000:3350],outU[3000:3350]\n",
    "u_test,y_test = inU[3350:],outU[3350:]"
   ]
  },
  {
   "cell_type": "code",
   "execution_count": 24,
   "metadata": {},
   "outputs": [
    {
     "name": "stdout",
     "output_type": "stream",
     "text": [
      "Epoch 1/50\n",
      "89/94 [===========================>..] - ETA: 0s - loss: 6.3638e-04 - root_mean_squared_error: 0.0252"
     ]
    },
    {
     "name": "stderr",
     "output_type": "stream",
     "text": [
      "WARNING:absl:Found untraced functions such as lstm_cell_layer_call_fn, lstm_cell_layer_call_and_return_conditional_losses while saving (showing 2 of 2). These functions will not be directly callable after loading.\n"
     ]
    },
    {
     "name": "stdout",
     "output_type": "stream",
     "text": [
      "INFO:tensorflow:Assets written to: model1/assets\n"
     ]
    },
    {
     "name": "stderr",
     "output_type": "stream",
     "text": [
      "INFO:tensorflow:Assets written to: model1/assets\n",
      "WARNING:absl:<keras.layers.recurrent.LSTMCell object at 0x12e64c970> has the same name 'LSTMCell' as a built-in Keras object. Consider renaming <class 'keras.layers.recurrent.LSTMCell'> to avoid naming conflicts when loading with `tf.keras.models.load_model`. If renaming is not possible, pass the object in the `custom_objects` parameter of the load function.\n"
     ]
    },
    {
     "name": "stdout",
     "output_type": "stream",
     "text": [
      "94/94 [==============================] - 4s 39ms/step - loss: 6.0417e-04 - root_mean_squared_error: 0.0246 - val_loss: 1.8746e-05 - val_root_mean_squared_error: 0.0043\n",
      "Epoch 2/50\n",
      "94/94 [==============================] - 0s 4ms/step - loss: 9.2856e-07 - root_mean_squared_error: 9.6362e-04 - val_loss: 2.0420e-05 - val_root_mean_squared_error: 0.0045\n",
      "Epoch 3/50\n",
      "94/94 [==============================] - 0s 5ms/step - loss: 8.9402e-07 - root_mean_squared_error: 9.4552e-04 - val_loss: 2.1268e-05 - val_root_mean_squared_error: 0.0046\n",
      "Epoch 4/50\n",
      "94/94 [==============================] - 0s 4ms/step - loss: 8.6167e-07 - root_mean_squared_error: 9.2826e-04 - val_loss: 2.2242e-05 - val_root_mean_squared_error: 0.0047\n",
      "Epoch 5/50\n",
      "94/94 [==============================] - 0s 4ms/step - loss: 8.3485e-07 - root_mean_squared_error: 9.1370e-04 - val_loss: 2.2967e-05 - val_root_mean_squared_error: 0.0048\n",
      "Epoch 6/50\n",
      "94/94 [==============================] - 0s 4ms/step - loss: 8.3108e-07 - root_mean_squared_error: 9.1164e-04 - val_loss: 2.3180e-05 - val_root_mean_squared_error: 0.0048\n",
      "Epoch 7/50\n",
      "94/94 [==============================] - 0s 4ms/step - loss: 8.0641e-07 - root_mean_squared_error: 8.9800e-04 - val_loss: 2.5259e-05 - val_root_mean_squared_error: 0.0050\n",
      "Epoch 8/50\n",
      "94/94 [==============================] - 0s 4ms/step - loss: 7.9408e-07 - root_mean_squared_error: 8.9111e-04 - val_loss: 2.7210e-05 - val_root_mean_squared_error: 0.0052\n",
      "Epoch 9/50\n",
      "94/94 [==============================] - 0s 4ms/step - loss: 7.7672e-07 - root_mean_squared_error: 8.8132e-04 - val_loss: 2.7200e-05 - val_root_mean_squared_error: 0.0052\n",
      "Epoch 10/50\n",
      "94/94 [==============================] - 0s 4ms/step - loss: 7.6885e-07 - root_mean_squared_error: 8.7684e-04 - val_loss: 2.8067e-05 - val_root_mean_squared_error: 0.0053\n",
      "Epoch 11/50\n",
      "94/94 [==============================] - 0s 4ms/step - loss: 7.5156e-07 - root_mean_squared_error: 8.6693e-04 - val_loss: 2.9960e-05 - val_root_mean_squared_error: 0.0055\n",
      "Epoch 12/50\n",
      "94/94 [==============================] - 0s 4ms/step - loss: 7.5028e-07 - root_mean_squared_error: 8.6619e-04 - val_loss: 3.0543e-05 - val_root_mean_squared_error: 0.0055\n",
      "Epoch 13/50\n",
      "94/94 [==============================] - 0s 4ms/step - loss: 7.3470e-07 - root_mean_squared_error: 8.5715e-04 - val_loss: 3.0756e-05 - val_root_mean_squared_error: 0.0055\n",
      "Epoch 14/50\n",
      "94/94 [==============================] - 0s 4ms/step - loss: 7.3407e-07 - root_mean_squared_error: 8.5678e-04 - val_loss: 3.2181e-05 - val_root_mean_squared_error: 0.0057\n",
      "Epoch 15/50\n",
      "94/94 [==============================] - 0s 4ms/step - loss: 7.3540e-07 - root_mean_squared_error: 8.5755e-04 - val_loss: 3.1539e-05 - val_root_mean_squared_error: 0.0056\n",
      "Epoch 16/50\n",
      "94/94 [==============================] - 0s 4ms/step - loss: 7.4556e-07 - root_mean_squared_error: 8.6346e-04 - val_loss: 3.1074e-05 - val_root_mean_squared_error: 0.0056\n",
      "Epoch 17/50\n",
      "94/94 [==============================] - 0s 4ms/step - loss: 7.4255e-07 - root_mean_squared_error: 8.6171e-04 - val_loss: 3.4237e-05 - val_root_mean_squared_error: 0.0059\n",
      "Epoch 18/50\n",
      "94/94 [==============================] - 0s 4ms/step - loss: 7.3521e-07 - root_mean_squared_error: 8.5745e-04 - val_loss: 3.3850e-05 - val_root_mean_squared_error: 0.0058\n",
      "Epoch 19/50\n",
      "94/94 [==============================] - 0s 4ms/step - loss: 7.4150e-07 - root_mean_squared_error: 8.6110e-04 - val_loss: 3.4670e-05 - val_root_mean_squared_error: 0.0059\n",
      "Epoch 20/50\n",
      "94/94 [==============================] - 0s 4ms/step - loss: 7.5686e-07 - root_mean_squared_error: 8.6998e-04 - val_loss: 3.7856e-05 - val_root_mean_squared_error: 0.0062\n",
      "Epoch 21/50\n",
      "94/94 [==============================] - 0s 4ms/step - loss: 7.5562e-07 - root_mean_squared_error: 8.6926e-04 - val_loss: 3.6387e-05 - val_root_mean_squared_error: 0.0060\n",
      "Epoch 22/50\n",
      "94/94 [==============================] - 0s 4ms/step - loss: 7.3012e-07 - root_mean_squared_error: 8.5447e-04 - val_loss: 3.5041e-05 - val_root_mean_squared_error: 0.0059\n",
      "Epoch 23/50\n",
      "94/94 [==============================] - 0s 4ms/step - loss: 7.6805e-07 - root_mean_squared_error: 8.7638e-04 - val_loss: 3.6072e-05 - val_root_mean_squared_error: 0.0060\n",
      "Epoch 24/50\n",
      "94/94 [==============================] - 0s 4ms/step - loss: 7.3577e-07 - root_mean_squared_error: 8.5777e-04 - val_loss: 3.3660e-05 - val_root_mean_squared_error: 0.0058\n",
      "Epoch 25/50\n",
      "94/94 [==============================] - 0s 4ms/step - loss: 7.4494e-07 - root_mean_squared_error: 8.6310e-04 - val_loss: 3.8343e-05 - val_root_mean_squared_error: 0.0062\n",
      "Epoch 26/50\n",
      "94/94 [==============================] - 0s 4ms/step - loss: 7.7465e-07 - root_mean_squared_error: 8.8014e-04 - val_loss: 3.6073e-05 - val_root_mean_squared_error: 0.0060\n",
      "Epoch 27/50\n",
      "94/94 [==============================] - 0s 4ms/step - loss: 7.3988e-07 - root_mean_squared_error: 8.6017e-04 - val_loss: 3.8761e-05 - val_root_mean_squared_error: 0.0062\n",
      "Epoch 28/50\n",
      "94/94 [==============================] - 0s 4ms/step - loss: 7.5854e-07 - root_mean_squared_error: 8.7094e-04 - val_loss: 3.7626e-05 - val_root_mean_squared_error: 0.0061\n",
      "Epoch 29/50\n",
      "94/94 [==============================] - 0s 4ms/step - loss: 7.3224e-07 - root_mean_squared_error: 8.5571e-04 - val_loss: 3.8009e-05 - val_root_mean_squared_error: 0.0062\n",
      "Epoch 30/50\n",
      "94/94 [==============================] - 0s 4ms/step - loss: 7.3030e-07 - root_mean_squared_error: 8.5458e-04 - val_loss: 3.7280e-05 - val_root_mean_squared_error: 0.0061\n",
      "Epoch 31/50\n",
      "94/94 [==============================] - 0s 4ms/step - loss: 7.3185e-07 - root_mean_squared_error: 8.5548e-04 - val_loss: 3.7489e-05 - val_root_mean_squared_error: 0.0061\n",
      "Epoch 32/50\n",
      "94/94 [==============================] - 0s 4ms/step - loss: 7.4623e-07 - root_mean_squared_error: 8.6385e-04 - val_loss: 4.1795e-05 - val_root_mean_squared_error: 0.0065\n",
      "Epoch 33/50\n",
      "94/94 [==============================] - 0s 4ms/step - loss: 7.6567e-07 - root_mean_squared_error: 8.7503e-04 - val_loss: 3.6317e-05 - val_root_mean_squared_error: 0.0060\n",
      "Epoch 34/50\n",
      "94/94 [==============================] - 0s 4ms/step - loss: 7.5785e-07 - root_mean_squared_error: 8.7055e-04 - val_loss: 3.6833e-05 - val_root_mean_squared_error: 0.0061\n",
      "Epoch 35/50\n",
      "94/94 [==============================] - 0s 4ms/step - loss: 7.3536e-07 - root_mean_squared_error: 8.5753e-04 - val_loss: 3.9181e-05 - val_root_mean_squared_error: 0.0063\n",
      "Epoch 36/50\n",
      "94/94 [==============================] - 0s 4ms/step - loss: 8.1589e-07 - root_mean_squared_error: 9.0326e-04 - val_loss: 3.5273e-05 - val_root_mean_squared_error: 0.0059\n",
      "Epoch 37/50\n",
      "94/94 [==============================] - 0s 4ms/step - loss: 8.0665e-07 - root_mean_squared_error: 8.9814e-04 - val_loss: 3.8801e-05 - val_root_mean_squared_error: 0.0062\n",
      "Epoch 38/50\n",
      "94/94 [==============================] - 0s 4ms/step - loss: 7.6611e-07 - root_mean_squared_error: 8.7528e-04 - val_loss: 3.7040e-05 - val_root_mean_squared_error: 0.0061\n",
      "Epoch 39/50\n",
      "94/94 [==============================] - 0s 4ms/step - loss: 7.4555e-07 - root_mean_squared_error: 8.6345e-04 - val_loss: 4.0688e-05 - val_root_mean_squared_error: 0.0064\n",
      "Epoch 40/50\n",
      "94/94 [==============================] - 0s 4ms/step - loss: 7.9726e-07 - root_mean_squared_error: 8.9289e-04 - val_loss: 4.0722e-05 - val_root_mean_squared_error: 0.0064\n",
      "Epoch 41/50\n",
      "94/94 [==============================] - 0s 4ms/step - loss: 7.8264e-07 - root_mean_squared_error: 8.8467e-04 - val_loss: 3.5330e-05 - val_root_mean_squared_error: 0.0059\n",
      "Epoch 42/50\n",
      "94/94 [==============================] - 0s 4ms/step - loss: 8.4950e-07 - root_mean_squared_error: 9.2168e-04 - val_loss: 3.8671e-05 - val_root_mean_squared_error: 0.0062\n",
      "Epoch 43/50\n",
      "94/94 [==============================] - 0s 4ms/step - loss: 7.9066e-07 - root_mean_squared_error: 8.8919e-04 - val_loss: 3.9385e-05 - val_root_mean_squared_error: 0.0063\n",
      "Epoch 44/50\n",
      "94/94 [==============================] - 0s 5ms/step - loss: 8.0231e-07 - root_mean_squared_error: 8.9572e-04 - val_loss: 3.5942e-05 - val_root_mean_squared_error: 0.0060\n",
      "Epoch 45/50\n",
      "94/94 [==============================] - 0s 4ms/step - loss: 8.0706e-07 - root_mean_squared_error: 8.9837e-04 - val_loss: 3.5648e-05 - val_root_mean_squared_error: 0.0060\n"
     ]
    },
    {
     "name": "stdout",
     "output_type": "stream",
     "text": [
      "Epoch 46/50\n",
      "94/94 [==============================] - 0s 4ms/step - loss: 7.7720e-07 - root_mean_squared_error: 8.8159e-04 - val_loss: 3.5578e-05 - val_root_mean_squared_error: 0.0060\n",
      "Epoch 47/50\n",
      "94/94 [==============================] - 0s 4ms/step - loss: 7.8563e-07 - root_mean_squared_error: 8.8636e-04 - val_loss: 3.4609e-05 - val_root_mean_squared_error: 0.0059\n",
      "Epoch 48/50\n",
      "94/94 [==============================] - 1s 6ms/step - loss: 8.3216e-07 - root_mean_squared_error: 9.1223e-04 - val_loss: 3.8933e-05 - val_root_mean_squared_error: 0.0062\n",
      "Epoch 49/50\n",
      "94/94 [==============================] - 0s 4ms/step - loss: 8.1601e-07 - root_mean_squared_error: 9.0333e-04 - val_loss: 3.9475e-05 - val_root_mean_squared_error: 0.0063\n",
      "Epoch 50/50\n",
      "94/94 [==============================] - 0s 5ms/step - loss: 7.9088e-07 - root_mean_squared_error: 8.8931e-04 - val_loss: 4.4105e-05 - val_root_mean_squared_error: 0.0066\n"
     ]
    },
    {
     "data": {
      "text/plain": [
       "<keras.callbacks.History at 0x12f602bb0>"
      ]
     },
     "execution_count": 24,
     "metadata": {},
     "output_type": "execute_result"
    }
   ],
   "source": [
    "model.fit(u_train, y_train, validation_data=(u_val, y_val), epochs=50, callbacks=[cp])"
   ]
  },
  {
   "cell_type": "code",
   "execution_count": 25,
   "metadata": {},
   "outputs": [],
   "source": [
    "final_model = load_model('model1/')\n",
    "train=final_model.predict(u_train)\n",
    "val=final_model.predict(u_val)\n",
    "test=final_model.predict(u_test)"
   ]
  },
  {
   "cell_type": "code",
   "execution_count": 26,
   "metadata": {},
   "outputs": [
    {
     "data": {
      "text/plain": [
       "<matplotlib.legend.Legend at 0x130666220>"
      ]
     },
     "execution_count": 26,
     "metadata": {},
     "output_type": "execute_result"
    },
    {
     "data": {
      "image/png": "[encoded data removed]",
      "text/plain": [
       "<Figure size 720x360 with 1 Axes>"
      ]
     },
     "metadata": {},
     "output_type": "display_data"
    }
   ],
   "source": [
    "plt.figure(figsize=(10,5))\n",
    "plt.plot(y_train,'k',label='actual')\n",
    "plt.plot(train,label='predicted')\n",
    "plt.title('Training Set')\n",
    "plt.legend()"
   ]
  },
  {
   "cell_type": "code",
   "execution_count": 27,
   "metadata": {},
   "outputs": [
    {
     "data": {
      "text/plain": [
       "<matplotlib.legend.Legend at 0x12e7d7b50>"
      ]
     },
     "execution_count": 27,
     "metadata": {},
     "output_type": "execute_result"
    },
    {
     "data": {
      "image/png": "[encoded data removed]",
      "text/plain": [
       "<Figure size 720x360 with 1 Axes>"
      ]
     },
     "metadata": {},
     "output_type": "display_data"
    }
   ],
   "source": [
    "plt.figure(figsize=(10,5))\n",
    "plt.plot(y_val,'k',label='actual')\n",
    "plt.plot(val,label='predicted')\n",
    "plt.title('Validation set')\n",
    "plt.legend()"
   ]
  },
  {
   "cell_type": "code",
   "execution_count": 28,
   "metadata": {},
   "outputs": [
    {
     "data": {
      "text/plain": [
       "<matplotlib.legend.Legend at 0x130351bb0>"
      ]
     },
     "execution_count": 28,
     "metadata": {},
     "output_type": "execute_result"
    },
    {
     "data": {
      "image/png": "[encoded data removed]",
      "text/plain": [
       "<Figure size 720x360 with 1 Axes>"
      ]
     },
     "metadata": {},
     "output_type": "display_data"
    }
   ],
   "source": [
    "plt.figure(figsize=(10,5))\n",
    "plt.plot(y_test,'k',label='actual')\n",
    "plt.plot(test,label='predicted')\n",
    "plt.title('Test set')\n",
    "plt.legend()"
   ]
  },
  {
   "cell_type": "markdown",
   "metadata": {},
   "source": [
    "## Multivariate"
   ]
  },
  {
   "cell_type": "code",
   "execution_count": 102,
   "metadata": {},
   "outputs": [],
   "source": [
    "def df_to_xn_y(df,window_size=10):\n",
    "    df_as_np=df.to_numpy()\n",
    "    X=[]\n",
    "    y=[]\n",
    "    for i in range(len(df_as_np)-window_size):\n",
    "        inpt = [var for var in df_as_np[i:i+window_size]]\n",
    "        X.append(inpt)\n",
    "        outpt = [df_as_np[i+window_size][0], df_as_np[i+window_size][1], df_as_np[i+window_size][2], df_as_np[i+window_size][3]]\n",
    "        y.append(outpt)\n",
    "    return np.array(X),np.array(y)"
   ]
  },
  {
   "cell_type": "code",
   "execution_count": 103,
   "metadata": {},
   "outputs": [
    {
     "data": {
      "text/plain": [
       "((3792, 10, 4), (3792, 4))"
      ]
     },
     "execution_count": 103,
     "metadata": {},
     "output_type": "execute_result"
    }
   ],
   "source": [
    "tdf=df[['u','v','w','p']]\n",
    "tdf.u=(tdf.u-tdf.u.min())/(tdf.u.max()-tdf.u.min())\n",
    "tdf.v=(tdf.v-tdf.v.min())/(tdf.v.max()-tdf.v.min())\n",
    "tdf.w=(tdf.w-tdf.w.min())/(tdf.w.max()-tdf.w.min())\n",
    "tdf.p=(tdf.p-tdf.p.min())/(tdf.p.max()-tdf.p.min())\n",
    "var_in, var_out = df_to_xn_y(tdf)\n",
    "var_in.shape, var_out.shape"
   ]
  },
  {
   "cell_type": "code",
   "execution_count": 44,
   "metadata": {},
   "outputs": [
    {
     "data": {
      "text/plain": [
       "(1.0, 0.0)"
      ]
     },
     "execution_count": 44,
     "metadata": {},
     "output_type": "execute_result"
    }
   ],
   "source": [
    "np.max(var_out),np.min(var_out)"
   ]
  },
  {
   "cell_type": "code",
   "execution_count": 104,
   "metadata": {},
   "outputs": [
    {
     "data": {
      "text/plain": [
       "((3000, 10, 4), (3000, 4))"
      ]
     },
     "execution_count": 104,
     "metadata": {},
     "output_type": "execute_result"
    }
   ],
   "source": [
    "in_train,out_train = var_in[:3000], var_out[:3000]\n",
    "in_val,out_val = var_in[3000:3350], var_out[3000:3350]\n",
    "in_test,out_test = var_in[3350:], var_out[3350:]\n",
    "in_train.shape,out_train.shape"
   ]
  },
  {
   "cell_type": "code",
   "execution_count": 108,
   "metadata": {},
   "outputs": [
    {
     "name": "stdout",
     "output_type": "stream",
     "text": [
      "Model: \"sequential_4\"\n",
      "_________________________________________________________________\n",
      " Layer (type)                Output Shape              Param #   \n",
      "=================================================================\n",
      " lstm_4 (LSTM)               (None, 64)                17664     \n",
      "                                                                 \n",
      " dense_8 (Dense)             (None, 16)                1040      \n",
      "                                                                 \n",
      " dense_9 (Dense)             (None, 4)                 68        \n",
      "                                                                 \n",
      "=================================================================\n",
      "Total params: 18,772\n",
      "Trainable params: 18,772\n",
      "Non-trainable params: 0\n",
      "_________________________________________________________________\n"
     ]
    }
   ],
   "source": [
    "mvmodel = Sequential()\n",
    "mvmodel.add(InputLayer((ws,4)))\n",
    "mvmodel.add(LSTM(64))\n",
    "mvmodel.add(Dense(16,'relu'))\n",
    "mvmodel.add(Dense(4,'linear'))\n",
    "\n",
    "mvmodel.summary()"
   ]
  },
  {
   "cell_type": "code",
   "execution_count": 109,
   "metadata": {},
   "outputs": [],
   "source": [
    "cp = ModelCheckpoint('model2/',save_best_only=True)\n",
    "mvmodel.compile(loss=MeanSquaredError(),optimizer=Adam(learning_rate=0.0001),metrics=[RootMeanSquaredError()])"
   ]
  },
  {
   "cell_type": "code",
   "execution_count": 123,
   "metadata": {},
   "outputs": [
    {
     "name": "stdout",
     "output_type": "stream",
     "text": [
      "Epoch 1/50\n",
      "82/94 [=========================>....] - ETA: 0s - loss: 3.9344e-04 - root_mean_squared_error: 0.0198"
     ]
    },
    {
     "name": "stderr",
     "output_type": "stream",
     "text": [
      "WARNING:absl:Found untraced functions such as lstm_cell_8_layer_call_fn, lstm_cell_8_layer_call_and_return_conditional_losses while saving (showing 2 of 2). These functions will not be directly callable after loading.\n"
     ]
    },
    {
     "name": "stdout",
     "output_type": "stream",
     "text": [
      "INFO:tensorflow:Assets written to: model2/assets\n"
     ]
    },
    {
     "name": "stderr",
     "output_type": "stream",
     "text": [
      "INFO:tensorflow:Assets written to: model2/assets\n",
      "WARNING:absl:<keras.layers.recurrent.LSTMCell object at 0x1326ecc70> has the same name 'LSTMCell' as a built-in Keras object. Consider renaming <class 'keras.layers.recurrent.LSTMCell'> to avoid naming conflicts when loading with `tf.keras.models.load_model`. If renaming is not possible, pass the object in the `custom_objects` parameter of the load function.\n"
     ]
    },
    {
     "name": "stdout",
     "output_type": "stream",
     "text": [
      "94/94 [==============================] - 4s 45ms/step - loss: 4.0173e-04 - root_mean_squared_error: 0.0200 - val_loss: 0.0082 - val_root_mean_squared_error: 0.0905\n",
      "Epoch 2/50\n",
      "83/94 [=========================>....] - ETA: 0s - loss: 4.0151e-04 - root_mean_squared_error: 0.0200"
     ]
    },
    {
     "name": "stderr",
     "output_type": "stream",
     "text": [
      "WARNING:absl:Found untraced functions such as lstm_cell_8_layer_call_fn, lstm_cell_8_layer_call_and_return_conditional_losses while saving (showing 2 of 2). These functions will not be directly callable after loading.\n"
     ]
    },
    {
     "name": "stdout",
     "output_type": "stream",
     "text": [
      "INFO:tensorflow:Assets written to: model2/assets\n"
     ]
    },
    {
     "name": "stderr",
     "output_type": "stream",
     "text": [
      "INFO:tensorflow:Assets written to: model2/assets\n",
      "WARNING:absl:<keras.layers.recurrent.LSTMCell object at 0x1326ecc70> has the same name 'LSTMCell' as a built-in Keras object. Consider renaming <class 'keras.layers.recurrent.LSTMCell'> to avoid naming conflicts when loading with `tf.keras.models.load_model`. If renaming is not possible, pass the object in the `custom_objects` parameter of the load function.\n"
     ]
    },
    {
     "name": "stdout",
     "output_type": "stream",
     "text": [
      "94/94 [==============================] - 3s 32ms/step - loss: 3.9945e-04 - root_mean_squared_error: 0.0200 - val_loss: 0.0081 - val_root_mean_squared_error: 0.0901\n",
      "Epoch 3/50\n",
      "90/94 [===========================>..] - ETA: 0s - loss: 4.0329e-04 - root_mean_squared_error: 0.0201"
     ]
    },
    {
     "name": "stderr",
     "output_type": "stream",
     "text": [
      "WARNING:absl:Found untraced functions such as lstm_cell_8_layer_call_fn, lstm_cell_8_layer_call_and_return_conditional_losses while saving (showing 2 of 2). These functions will not be directly callable after loading.\n"
     ]
    },
    {
     "name": "stdout",
     "output_type": "stream",
     "text": [
      "INFO:tensorflow:Assets written to: model2/assets\n"
     ]
    },
    {
     "name": "stderr",
     "output_type": "stream",
     "text": [
      "INFO:tensorflow:Assets written to: model2/assets\n",
      "WARNING:absl:<keras.layers.recurrent.LSTMCell object at 0x1326ecc70> has the same name 'LSTMCell' as a built-in Keras object. Consider renaming <class 'keras.layers.recurrent.LSTMCell'> to avoid naming conflicts when loading with `tf.keras.models.load_model`. If renaming is not possible, pass the object in the `custom_objects` parameter of the load function.\n"
     ]
    },
    {
     "name": "stdout",
     "output_type": "stream",
     "text": [
      "94/94 [==============================] - 3s 36ms/step - loss: 3.9213e-04 - root_mean_squared_error: 0.0198 - val_loss: 0.0080 - val_root_mean_squared_error: 0.0893\n",
      "Epoch 4/50\n",
      "87/94 [==========================>...] - ETA: 0s - loss: 3.9323e-04 - root_mean_squared_error: 0.0198"
     ]
    },
    {
     "name": "stderr",
     "output_type": "stream",
     "text": [
      "WARNING:absl:Found untraced functions such as lstm_cell_8_layer_call_fn, lstm_cell_8_layer_call_and_return_conditional_losses while saving (showing 2 of 2). These functions will not be directly callable after loading.\n"
     ]
    },
    {
     "name": "stdout",
     "output_type": "stream",
     "text": [
      "INFO:tensorflow:Assets written to: model2/assets\n"
     ]
    },
    {
     "name": "stderr",
     "output_type": "stream",
     "text": [
      "INFO:tensorflow:Assets written to: model2/assets\n",
      "WARNING:absl:<keras.layers.recurrent.LSTMCell object at 0x1326ecc70> has the same name 'LSTMCell' as a built-in Keras object. Consider renaming <class 'keras.layers.recurrent.LSTMCell'> to avoid naming conflicts when loading with `tf.keras.models.load_model`. If renaming is not possible, pass the object in the `custom_objects` parameter of the load function.\n"
     ]
    },
    {
     "name": "stdout",
     "output_type": "stream",
     "text": [
      "94/94 [==============================] - 3s 31ms/step - loss: 3.8774e-04 - root_mean_squared_error: 0.0197 - val_loss: 0.0079 - val_root_mean_squared_error: 0.0886\n",
      "Epoch 5/50\n",
      "85/94 [==========================>...] - ETA: 0s - loss: 3.9368e-04 - root_mean_squared_error: 0.0198"
     ]
    },
    {
     "name": "stderr",
     "output_type": "stream",
     "text": [
      "WARNING:absl:Found untraced functions such as lstm_cell_8_layer_call_fn, lstm_cell_8_layer_call_and_return_conditional_losses while saving (showing 2 of 2). These functions will not be directly callable after loading.\n"
     ]
    },
    {
     "name": "stdout",
     "output_type": "stream",
     "text": [
      "INFO:tensorflow:Assets written to: model2/assets\n"
     ]
    },
    {
     "name": "stderr",
     "output_type": "stream",
     "text": [
      "INFO:tensorflow:Assets written to: model2/assets\n",
      "WARNING:absl:<keras.layers.recurrent.LSTMCell object at 0x1326ecc70> has the same name 'LSTMCell' as a built-in Keras object. Consider renaming <class 'keras.layers.recurrent.LSTMCell'> to avoid naming conflicts when loading with `tf.keras.models.load_model`. If renaming is not possible, pass the object in the `custom_objects` parameter of the load function.\n"
     ]
    },
    {
     "name": "stdout",
     "output_type": "stream",
     "text": [
      "94/94 [==============================] - 3s 31ms/step - loss: 3.7810e-04 - root_mean_squared_error: 0.0194 - val_loss: 0.0077 - val_root_mean_squared_error: 0.0879\n",
      "Epoch 6/50\n",
      "83/94 [=========================>....] - ETA: 0s - loss: 3.5062e-04 - root_mean_squared_error: 0.0187"
     ]
    },
    {
     "name": "stderr",
     "output_type": "stream",
     "text": [
      "WARNING:absl:Found untraced functions such as lstm_cell_8_layer_call_fn, lstm_cell_8_layer_call_and_return_conditional_losses while saving (showing 2 of 2). These functions will not be directly callable after loading.\n"
     ]
    },
    {
     "name": "stdout",
     "output_type": "stream",
     "text": [
      "INFO:tensorflow:Assets written to: model2/assets\n"
     ]
    },
    {
     "name": "stderr",
     "output_type": "stream",
     "text": [
      "INFO:tensorflow:Assets written to: model2/assets\n",
      "WARNING:absl:<keras.layers.recurrent.LSTMCell object at 0x1326ecc70> has the same name 'LSTMCell' as a built-in Keras object. Consider renaming <class 'keras.layers.recurrent.LSTMCell'> to avoid naming conflicts when loading with `tf.keras.models.load_model`. If renaming is not possible, pass the object in the `custom_objects` parameter of the load function.\n"
     ]
    },
    {
     "name": "stdout",
     "output_type": "stream",
     "text": [
      "94/94 [==============================] - 3s 37ms/step - loss: 3.7844e-04 - root_mean_squared_error: 0.0195 - val_loss: 0.0076 - val_root_mean_squared_error: 0.0872\n",
      "Epoch 7/50\n",
      "90/94 [===========================>..] - ETA: 0s - loss: 3.6993e-04 - root_mean_squared_error: 0.0192"
     ]
    },
    {
     "name": "stderr",
     "output_type": "stream",
     "text": [
      "WARNING:absl:Found untraced functions such as lstm_cell_8_layer_call_fn, lstm_cell_8_layer_call_and_return_conditional_losses while saving (showing 2 of 2). These functions will not be directly callable after loading.\n"
     ]
    },
    {
     "name": "stdout",
     "output_type": "stream",
     "text": [
      "INFO:tensorflow:Assets written to: model2/assets\n"
     ]
    },
    {
     "name": "stderr",
     "output_type": "stream",
     "text": [
      "INFO:tensorflow:Assets written to: model2/assets\n",
      "WARNING:absl:<keras.layers.recurrent.LSTMCell object at 0x1326ecc70> has the same name 'LSTMCell' as a built-in Keras object. Consider renaming <class 'keras.layers.recurrent.LSTMCell'> to avoid naming conflicts when loading with `tf.keras.models.load_model`. If renaming is not possible, pass the object in the `custom_objects` parameter of the load function.\n"
     ]
    },
    {
     "name": "stdout",
     "output_type": "stream",
     "text": [
      "94/94 [==============================] - 3s 34ms/step - loss: 3.7121e-04 - root_mean_squared_error: 0.0193 - val_loss: 0.0075 - val_root_mean_squared_error: 0.0865\n",
      "Epoch 8/50\n",
      "94/94 [==============================] - ETA: 0s - loss: 3.7150e-04 - root_mean_squared_error: 0.0193"
     ]
    },
    {
     "name": "stderr",
     "output_type": "stream",
     "text": [
      "WARNING:absl:Found untraced functions such as lstm_cell_8_layer_call_fn, lstm_cell_8_layer_call_and_return_conditional_losses while saving (showing 2 of 2). These functions will not be directly callable after loading.\n"
     ]
    },
    {
     "name": "stdout",
     "output_type": "stream",
     "text": [
      "INFO:tensorflow:Assets written to: model2/assets\n"
     ]
    },
    {
     "name": "stderr",
     "output_type": "stream",
     "text": [
      "INFO:tensorflow:Assets written to: model2/assets\n",
      "WARNING:absl:<keras.layers.recurrent.LSTMCell object at 0x1326ecc70> has the same name 'LSTMCell' as a built-in Keras object. Consider renaming <class 'keras.layers.recurrent.LSTMCell'> to avoid naming conflicts when loading with `tf.keras.models.load_model`. If renaming is not possible, pass the object in the `custom_objects` parameter of the load function.\n"
     ]
    },
    {
     "name": "stdout",
     "output_type": "stream",
     "text": [
      "94/94 [==============================] - 4s 40ms/step - loss: 3.7150e-04 - root_mean_squared_error: 0.0193 - val_loss: 0.0074 - val_root_mean_squared_error: 0.0863\n",
      "Epoch 9/50\n",
      "88/94 [===========================>..] - ETA: 0s - loss: 3.5647e-04 - root_mean_squared_error: 0.0189"
     ]
    },
    {
     "name": "stderr",
     "output_type": "stream",
     "text": [
      "WARNING:absl:Found untraced functions such as lstm_cell_8_layer_call_fn, lstm_cell_8_layer_call_and_return_conditional_losses while saving (showing 2 of 2). These functions will not be directly callable after loading.\n"
     ]
    },
    {
     "name": "stdout",
     "output_type": "stream",
     "text": [
      "INFO:tensorflow:Assets written to: model2/assets\n"
     ]
    },
    {
     "name": "stderr",
     "output_type": "stream",
     "text": [
      "INFO:tensorflow:Assets written to: model2/assets\n",
      "WARNING:absl:<keras.layers.recurrent.LSTMCell object at 0x1326ecc70> has the same name 'LSTMCell' as a built-in Keras object. Consider renaming <class 'keras.layers.recurrent.LSTMCell'> to avoid naming conflicts when loading with `tf.keras.models.load_model`. If renaming is not possible, pass the object in the `custom_objects` parameter of the load function.\n"
     ]
    },
    {
     "name": "stdout",
     "output_type": "stream",
     "text": [
      "94/94 [==============================] - 3s 32ms/step - loss: 3.6150e-04 - root_mean_squared_error: 0.0190 - val_loss: 0.0074 - val_root_mean_squared_error: 0.0858\n",
      "Epoch 10/50\n",
      "89/94 [===========================>..] - ETA: 0s - loss: 3.6904e-04 - root_mean_squared_error: 0.0192"
     ]
    },
    {
     "name": "stderr",
     "output_type": "stream",
     "text": [
      "WARNING:absl:Found untraced functions such as lstm_cell_8_layer_call_fn, lstm_cell_8_layer_call_and_return_conditional_losses while saving (showing 2 of 2). These functions will not be directly callable after loading.\n"
     ]
    },
    {
     "name": "stdout",
     "output_type": "stream",
     "text": [
      "INFO:tensorflow:Assets written to: model2/assets\n"
     ]
    },
    {
     "name": "stderr",
     "output_type": "stream",
     "text": [
      "INFO:tensorflow:Assets written to: model2/assets\n",
      "WARNING:absl:<keras.layers.recurrent.LSTMCell object at 0x1326ecc70> has the same name 'LSTMCell' as a built-in Keras object. Consider renaming <class 'keras.layers.recurrent.LSTMCell'> to avoid naming conflicts when loading with `tf.keras.models.load_model`. If renaming is not possible, pass the object in the `custom_objects` parameter of the load function.\n"
     ]
    },
    {
     "name": "stdout",
     "output_type": "stream",
     "text": [
      "94/94 [==============================] - 3s 35ms/step - loss: 3.6403e-04 - root_mean_squared_error: 0.0191 - val_loss: 0.0073 - val_root_mean_squared_error: 0.0853\n",
      "Epoch 11/50\n",
      "87/94 [==========================>...] - ETA: 0s - loss: 3.6274e-04 - root_mean_squared_error: 0.0190"
     ]
    },
    {
     "name": "stderr",
     "output_type": "stream",
     "text": [
      "WARNING:absl:Found untraced functions such as lstm_cell_8_layer_call_fn, lstm_cell_8_layer_call_and_return_conditional_losses while saving (showing 2 of 2). These functions will not be directly callable after loading.\n"
     ]
    },
    {
     "name": "stdout",
     "output_type": "stream",
     "text": [
      "INFO:tensorflow:Assets written to: model2/assets\n"
     ]
    },
    {
     "name": "stderr",
     "output_type": "stream",
     "text": [
      "INFO:tensorflow:Assets written to: model2/assets\n",
      "WARNING:absl:<keras.layers.recurrent.LSTMCell object at 0x1326ecc70> has the same name 'LSTMCell' as a built-in Keras object. Consider renaming <class 'keras.layers.recurrent.LSTMCell'> to avoid naming conflicts when loading with `tf.keras.models.load_model`. If renaming is not possible, pass the object in the `custom_objects` parameter of the load function.\n"
     ]
    },
    {
     "name": "stdout",
     "output_type": "stream",
     "text": [
      "94/94 [==============================] - 3s 31ms/step - loss: 3.5567e-04 - root_mean_squared_error: 0.0189 - val_loss: 0.0072 - val_root_mean_squared_error: 0.0848\n",
      "Epoch 12/50\n",
      "85/94 [==========================>...] - ETA: 0s - loss: 3.6925e-04 - root_mean_squared_error: 0.0192"
     ]
    },
    {
     "name": "stderr",
     "output_type": "stream",
     "text": [
      "WARNING:absl:Found untraced functions such as lstm_cell_8_layer_call_fn, lstm_cell_8_layer_call_and_return_conditional_losses while saving (showing 2 of 2). These functions will not be directly callable after loading.\n"
     ]
    },
    {
     "name": "stdout",
     "output_type": "stream",
     "text": [
      "INFO:tensorflow:Assets written to: model2/assets\n"
     ]
    },
    {
     "name": "stderr",
     "output_type": "stream",
     "text": [
      "INFO:tensorflow:Assets written to: model2/assets\n",
      "WARNING:absl:<keras.layers.recurrent.LSTMCell object at 0x1326ecc70> has the same name 'LSTMCell' as a built-in Keras object. Consider renaming <class 'keras.layers.recurrent.LSTMCell'> to avoid naming conflicts when loading with `tf.keras.models.load_model`. If renaming is not possible, pass the object in the `custom_objects` parameter of the load function.\n"
     ]
    },
    {
     "name": "stdout",
     "output_type": "stream",
     "text": [
      "94/94 [==============================] - 3s 34ms/step - loss: 3.5454e-04 - root_mean_squared_error: 0.0188 - val_loss: 0.0071 - val_root_mean_squared_error: 0.0844\n",
      "Epoch 13/50\n",
      "89/94 [===========================>..] - ETA: 0s - loss: 3.5708e-04 - root_mean_squared_error: 0.0189"
     ]
    },
    {
     "name": "stderr",
     "output_type": "stream",
     "text": [
      "WARNING:absl:Found untraced functions such as lstm_cell_8_layer_call_fn, lstm_cell_8_layer_call_and_return_conditional_losses while saving (showing 2 of 2). These functions will not be directly callable after loading.\n"
     ]
    },
    {
     "name": "stdout",
     "output_type": "stream",
     "text": [
      "INFO:tensorflow:Assets written to: model2/assets\n"
     ]
    },
    {
     "name": "stderr",
     "output_type": "stream",
     "text": [
      "INFO:tensorflow:Assets written to: model2/assets\n",
      "WARNING:absl:<keras.layers.recurrent.LSTMCell object at 0x1326ecc70> has the same name 'LSTMCell' as a built-in Keras object. Consider renaming <class 'keras.layers.recurrent.LSTMCell'> to avoid naming conflicts when loading with `tf.keras.models.load_model`. If renaming is not possible, pass the object in the `custom_objects` parameter of the load function.\n"
     ]
    },
    {
     "name": "stdout",
     "output_type": "stream",
     "text": [
      "94/94 [==============================] - 4s 38ms/step - loss: 3.4679e-04 - root_mean_squared_error: 0.0186 - val_loss: 0.0070 - val_root_mean_squared_error: 0.0839\n",
      "Epoch 14/50\n",
      "90/94 [===========================>..] - ETA: 0s - loss: 3.3625e-04 - root_mean_squared_error: 0.0183"
     ]
    },
    {
     "name": "stderr",
     "output_type": "stream",
     "text": [
      "WARNING:absl:Found untraced functions such as lstm_cell_8_layer_call_fn, lstm_cell_8_layer_call_and_return_conditional_losses while saving (showing 2 of 2). These functions will not be directly callable after loading.\n"
     ]
    },
    {
     "name": "stdout",
     "output_type": "stream",
     "text": [
      "INFO:tensorflow:Assets written to: model2/assets\n"
     ]
    },
    {
     "name": "stderr",
     "output_type": "stream",
     "text": [
      "INFO:tensorflow:Assets written to: model2/assets\n",
      "WARNING:absl:<keras.layers.recurrent.LSTMCell object at 0x1326ecc70> has the same name 'LSTMCell' as a built-in Keras object. Consider renaming <class 'keras.layers.recurrent.LSTMCell'> to avoid naming conflicts when loading with `tf.keras.models.load_model`. If renaming is not possible, pass the object in the `custom_objects` parameter of the load function.\n"
     ]
    },
    {
     "name": "stdout",
     "output_type": "stream",
     "text": [
      "94/94 [==============================] - 3s 30ms/step - loss: 3.4994e-04 - root_mean_squared_error: 0.0187 - val_loss: 0.0070 - val_root_mean_squared_error: 0.0837\n",
      "Epoch 15/50\n",
      "89/94 [===========================>..] - ETA: 0s - loss: 3.2787e-04 - root_mean_squared_error: 0.0181"
     ]
    },
    {
     "name": "stderr",
     "output_type": "stream",
     "text": [
      "WARNING:absl:Found untraced functions such as lstm_cell_8_layer_call_fn, lstm_cell_8_layer_call_and_return_conditional_losses while saving (showing 2 of 2). These functions will not be directly callable after loading.\n"
     ]
    },
    {
     "name": "stdout",
     "output_type": "stream",
     "text": [
      "INFO:tensorflow:Assets written to: model2/assets\n"
     ]
    },
    {
     "name": "stderr",
     "output_type": "stream",
     "text": [
      "INFO:tensorflow:Assets written to: model2/assets\n",
      "WARNING:absl:<keras.layers.recurrent.LSTMCell object at 0x1326ecc70> has the same name 'LSTMCell' as a built-in Keras object. Consider renaming <class 'keras.layers.recurrent.LSTMCell'> to avoid naming conflicts when loading with `tf.keras.models.load_model`. If renaming is not possible, pass the object in the `custom_objects` parameter of the load function.\n"
     ]
    },
    {
     "name": "stdout",
     "output_type": "stream",
     "text": [
      "94/94 [==============================] - 3s 35ms/step - loss: 3.4976e-04 - root_mean_squared_error: 0.0187 - val_loss: 0.0069 - val_root_mean_squared_error: 0.0832\n",
      "Epoch 16/50\n",
      "89/94 [===========================>..] - ETA: 0s - loss: 3.5625e-04 - root_mean_squared_error: 0.0189"
     ]
    },
    {
     "name": "stderr",
     "output_type": "stream",
     "text": [
      "WARNING:absl:Found untraced functions such as lstm_cell_8_layer_call_fn, lstm_cell_8_layer_call_and_return_conditional_losses while saving (showing 2 of 2). These functions will not be directly callable after loading.\n"
     ]
    },
    {
     "name": "stdout",
     "output_type": "stream",
     "text": [
      "INFO:tensorflow:Assets written to: model2/assets\n"
     ]
    },
    {
     "name": "stderr",
     "output_type": "stream",
     "text": [
      "INFO:tensorflow:Assets written to: model2/assets\n",
      "WARNING:absl:<keras.layers.recurrent.LSTMCell object at 0x1326ecc70> has the same name 'LSTMCell' as a built-in Keras object. Consider renaming <class 'keras.layers.recurrent.LSTMCell'> to avoid naming conflicts when loading with `tf.keras.models.load_model`. If renaming is not possible, pass the object in the `custom_objects` parameter of the load function.\n"
     ]
    },
    {
     "name": "stdout",
     "output_type": "stream",
     "text": [
      "94/94 [==============================] - 3s 31ms/step - loss: 3.5155e-04 - root_mean_squared_error: 0.0187 - val_loss: 0.0068 - val_root_mean_squared_error: 0.0827\n",
      "Epoch 17/50\n",
      "90/94 [===========================>..] - ETA: 0s - loss: 3.4838e-04 - root_mean_squared_error: 0.0187"
     ]
    },
    {
     "name": "stderr",
     "output_type": "stream",
     "text": [
      "WARNING:absl:Found untraced functions such as lstm_cell_8_layer_call_fn, lstm_cell_8_layer_call_and_return_conditional_losses while saving (showing 2 of 2). These functions will not be directly callable after loading.\n"
     ]
    },
    {
     "name": "stdout",
     "output_type": "stream",
     "text": [
      "INFO:tensorflow:Assets written to: model2/assets\n"
     ]
    },
    {
     "name": "stderr",
     "output_type": "stream",
     "text": [
      "INFO:tensorflow:Assets written to: model2/assets\n",
      "WARNING:absl:<keras.layers.recurrent.LSTMCell object at 0x1326ecc70> has the same name 'LSTMCell' as a built-in Keras object. Consider renaming <class 'keras.layers.recurrent.LSTMCell'> to avoid naming conflicts when loading with `tf.keras.models.load_model`. If renaming is not possible, pass the object in the `custom_objects` parameter of the load function.\n"
     ]
    },
    {
     "name": "stdout",
     "output_type": "stream",
     "text": [
      "94/94 [==============================] - 3s 35ms/step - loss: 3.3874e-04 - root_mean_squared_error: 0.0184 - val_loss: 0.0068 - val_root_mean_squared_error: 0.0822\n",
      "Epoch 18/50\n",
      "86/94 [==========================>...] - ETA: 0s - loss: 3.5017e-04 - root_mean_squared_error: 0.0187"
     ]
    },
    {
     "name": "stderr",
     "output_type": "stream",
     "text": [
      "WARNING:absl:Found untraced functions such as lstm_cell_8_layer_call_fn, lstm_cell_8_layer_call_and_return_conditional_losses while saving (showing 2 of 2). These functions will not be directly callable after loading.\n"
     ]
    },
    {
     "name": "stdout",
     "output_type": "stream",
     "text": [
      "INFO:tensorflow:Assets written to: model2/assets\n"
     ]
    },
    {
     "name": "stderr",
     "output_type": "stream",
     "text": [
      "INFO:tensorflow:Assets written to: model2/assets\n",
      "WARNING:absl:<keras.layers.recurrent.LSTMCell object at 0x1326ecc70> has the same name 'LSTMCell' as a built-in Keras object. Consider renaming <class 'keras.layers.recurrent.LSTMCell'> to avoid naming conflicts when loading with `tf.keras.models.load_model`. If renaming is not possible, pass the object in the `custom_objects` parameter of the load function.\n"
     ]
    },
    {
     "name": "stdout",
     "output_type": "stream",
     "text": [
      "94/94 [==============================] - 3s 33ms/step - loss: 3.3488e-04 - root_mean_squared_error: 0.0183 - val_loss: 0.0067 - val_root_mean_squared_error: 0.0818\n",
      "Epoch 19/50\n",
      "86/94 [==========================>...] - ETA: 0s - loss: 3.2439e-04 - root_mean_squared_error: 0.0180"
     ]
    },
    {
     "name": "stderr",
     "output_type": "stream",
     "text": [
      "WARNING:absl:Found untraced functions such as lstm_cell_8_layer_call_fn, lstm_cell_8_layer_call_and_return_conditional_losses while saving (showing 2 of 2). These functions will not be directly callable after loading.\n"
     ]
    },
    {
     "name": "stdout",
     "output_type": "stream",
     "text": [
      "INFO:tensorflow:Assets written to: model2/assets\n"
     ]
    },
    {
     "name": "stderr",
     "output_type": "stream",
     "text": [
      "INFO:tensorflow:Assets written to: model2/assets\n",
      "WARNING:absl:<keras.layers.recurrent.LSTMCell object at 0x1326ecc70> has the same name 'LSTMCell' as a built-in Keras object. Consider renaming <class 'keras.layers.recurrent.LSTMCell'> to avoid naming conflicts when loading with `tf.keras.models.load_model`. If renaming is not possible, pass the object in the `custom_objects` parameter of the load function.\n"
     ]
    },
    {
     "name": "stdout",
     "output_type": "stream",
     "text": [
      "94/94 [==============================] - 3s 32ms/step - loss: 3.3219e-04 - root_mean_squared_error: 0.0182 - val_loss: 0.0066 - val_root_mean_squared_error: 0.0815\n",
      "Epoch 20/50\n",
      "86/94 [==========================>...] - ETA: 0s - loss: 3.2638e-04 - root_mean_squared_error: 0.0181"
     ]
    },
    {
     "name": "stderr",
     "output_type": "stream",
     "text": [
      "WARNING:absl:Found untraced functions such as lstm_cell_8_layer_call_fn, lstm_cell_8_layer_call_and_return_conditional_losses while saving (showing 2 of 2). These functions will not be directly callable after loading.\n"
     ]
    },
    {
     "name": "stdout",
     "output_type": "stream",
     "text": [
      "INFO:tensorflow:Assets written to: model2/assets\n"
     ]
    },
    {
     "name": "stderr",
     "output_type": "stream",
     "text": [
      "INFO:tensorflow:Assets written to: model2/assets\n",
      "WARNING:absl:<keras.layers.recurrent.LSTMCell object at 0x1326ecc70> has the same name 'LSTMCell' as a built-in Keras object. Consider renaming <class 'keras.layers.recurrent.LSTMCell'> to avoid naming conflicts when loading with `tf.keras.models.load_model`. If renaming is not possible, pass the object in the `custom_objects` parameter of the load function.\n"
     ]
    },
    {
     "name": "stdout",
     "output_type": "stream",
     "text": [
      "94/94 [==============================] - 4s 38ms/step - loss: 3.2675e-04 - root_mean_squared_error: 0.0181 - val_loss: 0.0066 - val_root_mean_squared_error: 0.0812\n",
      "Epoch 21/50\n",
      "84/94 [=========================>....] - ETA: 0s - loss: 3.2604e-04 - root_mean_squared_error: 0.0181"
     ]
    },
    {
     "name": "stderr",
     "output_type": "stream",
     "text": [
      "WARNING:absl:Found untraced functions such as lstm_cell_8_layer_call_fn, lstm_cell_8_layer_call_and_return_conditional_losses while saving (showing 2 of 2). These functions will not be directly callable after loading.\n"
     ]
    },
    {
     "name": "stdout",
     "output_type": "stream",
     "text": [
      "INFO:tensorflow:Assets written to: model2/assets\n"
     ]
    },
    {
     "name": "stderr",
     "output_type": "stream",
     "text": [
      "INFO:tensorflow:Assets written to: model2/assets\n",
      "WARNING:absl:<keras.layers.recurrent.LSTMCell object at 0x1326ecc70> has the same name 'LSTMCell' as a built-in Keras object. Consider renaming <class 'keras.layers.recurrent.LSTMCell'> to avoid naming conflicts when loading with `tf.keras.models.load_model`. If renaming is not possible, pass the object in the `custom_objects` parameter of the load function.\n"
     ]
    },
    {
     "name": "stdout",
     "output_type": "stream",
     "text": [
      "94/94 [==============================] - 3s 32ms/step - loss: 3.2985e-04 - root_mean_squared_error: 0.0182 - val_loss: 0.0065 - val_root_mean_squared_error: 0.0807\n",
      "Epoch 22/50\n",
      "88/94 [===========================>..] - ETA: 0s - loss: 3.3289e-04 - root_mean_squared_error: 0.0182"
     ]
    },
    {
     "name": "stderr",
     "output_type": "stream",
     "text": [
      "WARNING:absl:Found untraced functions such as lstm_cell_8_layer_call_fn, lstm_cell_8_layer_call_and_return_conditional_losses while saving (showing 2 of 2). These functions will not be directly callable after loading.\n"
     ]
    },
    {
     "name": "stdout",
     "output_type": "stream",
     "text": [
      "INFO:tensorflow:Assets written to: model2/assets\n"
     ]
    },
    {
     "name": "stderr",
     "output_type": "stream",
     "text": [
      "INFO:tensorflow:Assets written to: model2/assets\n",
      "WARNING:absl:<keras.layers.recurrent.LSTMCell object at 0x1326ecc70> has the same name 'LSTMCell' as a built-in Keras object. Consider renaming <class 'keras.layers.recurrent.LSTMCell'> to avoid naming conflicts when loading with `tf.keras.models.load_model`. If renaming is not possible, pass the object in the `custom_objects` parameter of the load function.\n"
     ]
    },
    {
     "name": "stdout",
     "output_type": "stream",
     "text": [
      "94/94 [==============================] - 3s 37ms/step - loss: 3.2488e-04 - root_mean_squared_error: 0.0180 - val_loss: 0.0065 - val_root_mean_squared_error: 0.0805\n",
      "Epoch 23/50\n",
      "82/94 [=========================>....] - ETA: 0s - loss: 3.2979e-04 - root_mean_squared_error: 0.0182"
     ]
    },
    {
     "name": "stderr",
     "output_type": "stream",
     "text": [
      "WARNING:absl:Found untraced functions such as lstm_cell_8_layer_call_fn, lstm_cell_8_layer_call_and_return_conditional_losses while saving (showing 2 of 2). These functions will not be directly callable after loading.\n"
     ]
    },
    {
     "name": "stdout",
     "output_type": "stream",
     "text": [
      "INFO:tensorflow:Assets written to: model2/assets\n"
     ]
    },
    {
     "name": "stderr",
     "output_type": "stream",
     "text": [
      "INFO:tensorflow:Assets written to: model2/assets\n",
      "WARNING:absl:<keras.layers.recurrent.LSTMCell object at 0x1326ecc70> has the same name 'LSTMCell' as a built-in Keras object. Consider renaming <class 'keras.layers.recurrent.LSTMCell'> to avoid naming conflicts when loading with `tf.keras.models.load_model`. If renaming is not possible, pass the object in the `custom_objects` parameter of the load function.\n"
     ]
    },
    {
     "name": "stdout",
     "output_type": "stream",
     "text": [
      "94/94 [==============================] - 3s 33ms/step - loss: 3.2206e-04 - root_mean_squared_error: 0.0179 - val_loss: 0.0064 - val_root_mean_squared_error: 0.0803\n",
      "Epoch 24/50\n",
      "90/94 [===========================>..] - ETA: 0s - loss: 2.8466e-04 - root_mean_squared_error: 0.0169"
     ]
    },
    {
     "name": "stderr",
     "output_type": "stream",
     "text": [
      "WARNING:absl:Found untraced functions such as lstm_cell_8_layer_call_fn, lstm_cell_8_layer_call_and_return_conditional_losses while saving (showing 2 of 2). These functions will not be directly callable after loading.\n"
     ]
    },
    {
     "name": "stdout",
     "output_type": "stream",
     "text": [
      "INFO:tensorflow:Assets written to: model2/assets\n"
     ]
    },
    {
     "name": "stderr",
     "output_type": "stream",
     "text": [
      "INFO:tensorflow:Assets written to: model2/assets\n",
      "WARNING:absl:<keras.layers.recurrent.LSTMCell object at 0x1326ecc70> has the same name 'LSTMCell' as a built-in Keras object. Consider renaming <class 'keras.layers.recurrent.LSTMCell'> to avoid naming conflicts when loading with `tf.keras.models.load_model`. If renaming is not possible, pass the object in the `custom_objects` parameter of the load function.\n"
     ]
    },
    {
     "name": "stdout",
     "output_type": "stream",
     "text": [
      "94/94 [==============================] - 3s 34ms/step - loss: 3.1894e-04 - root_mean_squared_error: 0.0179 - val_loss: 0.0063 - val_root_mean_squared_error: 0.0797\n",
      "Epoch 25/50\n",
      "94/94 [==============================] - ETA: 0s - loss: 3.1897e-04 - root_mean_squared_error: 0.0179"
     ]
    },
    {
     "name": "stderr",
     "output_type": "stream",
     "text": [
      "WARNING:absl:Found untraced functions such as lstm_cell_8_layer_call_fn, lstm_cell_8_layer_call_and_return_conditional_losses while saving (showing 2 of 2). These functions will not be directly callable after loading.\n"
     ]
    },
    {
     "name": "stdout",
     "output_type": "stream",
     "text": [
      "INFO:tensorflow:Assets written to: model2/assets\n"
     ]
    },
    {
     "name": "stderr",
     "output_type": "stream",
     "text": [
      "INFO:tensorflow:Assets written to: model2/assets\n",
      "WARNING:absl:<keras.layers.recurrent.LSTMCell object at 0x1326ecc70> has the same name 'LSTMCell' as a built-in Keras object. Consider renaming <class 'keras.layers.recurrent.LSTMCell'> to avoid naming conflicts when loading with `tf.keras.models.load_model`. If renaming is not possible, pass the object in the `custom_objects` parameter of the load function.\n"
     ]
    },
    {
     "name": "stdout",
     "output_type": "stream",
     "text": [
      "94/94 [==============================] - 4s 39ms/step - loss: 3.1897e-04 - root_mean_squared_error: 0.0179 - val_loss: 0.0063 - val_root_mean_squared_error: 0.0792\n",
      "Epoch 26/50\n",
      "87/94 [==========================>...] - ETA: 0s - loss: 3.2017e-04 - root_mean_squared_error: 0.0179"
     ]
    },
    {
     "name": "stderr",
     "output_type": "stream",
     "text": [
      "WARNING:absl:Found untraced functions such as lstm_cell_8_layer_call_fn, lstm_cell_8_layer_call_and_return_conditional_losses while saving (showing 2 of 2). These functions will not be directly callable after loading.\n"
     ]
    },
    {
     "name": "stdout",
     "output_type": "stream",
     "text": [
      "INFO:tensorflow:Assets written to: model2/assets\n"
     ]
    },
    {
     "name": "stderr",
     "output_type": "stream",
     "text": [
      "INFO:tensorflow:Assets written to: model2/assets\n",
      "WARNING:absl:<keras.layers.recurrent.LSTMCell object at 0x1326ecc70> has the same name 'LSTMCell' as a built-in Keras object. Consider renaming <class 'keras.layers.recurrent.LSTMCell'> to avoid naming conflicts when loading with `tf.keras.models.load_model`. If renaming is not possible, pass the object in the `custom_objects` parameter of the load function.\n"
     ]
    },
    {
     "name": "stdout",
     "output_type": "stream",
     "text": [
      "94/94 [==============================] - 3s 32ms/step - loss: 3.1469e-04 - root_mean_squared_error: 0.0177 - val_loss: 0.0062 - val_root_mean_squared_error: 0.0789\n",
      "Epoch 27/50\n",
      "84/94 [=========================>....] - ETA: 0s - loss: 3.2304e-04 - root_mean_squared_error: 0.0180"
     ]
    },
    {
     "name": "stderr",
     "output_type": "stream",
     "text": [
      "WARNING:absl:Found untraced functions such as lstm_cell_8_layer_call_fn, lstm_cell_8_layer_call_and_return_conditional_losses while saving (showing 2 of 2). These functions will not be directly callable after loading.\n"
     ]
    },
    {
     "name": "stdout",
     "output_type": "stream",
     "text": [
      "INFO:tensorflow:Assets written to: model2/assets\n"
     ]
    },
    {
     "name": "stderr",
     "output_type": "stream",
     "text": [
      "INFO:tensorflow:Assets written to: model2/assets\n",
      "WARNING:absl:<keras.layers.recurrent.LSTMCell object at 0x1326ecc70> has the same name 'LSTMCell' as a built-in Keras object. Consider renaming <class 'keras.layers.recurrent.LSTMCell'> to avoid naming conflicts when loading with `tf.keras.models.load_model`. If renaming is not possible, pass the object in the `custom_objects` parameter of the load function.\n"
     ]
    },
    {
     "name": "stdout",
     "output_type": "stream",
     "text": [
      "94/94 [==============================] - 3s 37ms/step - loss: 3.0967e-04 - root_mean_squared_error: 0.0176 - val_loss: 0.0062 - val_root_mean_squared_error: 0.0784\n",
      "Epoch 28/50\n",
      "83/94 [=========================>....] - ETA: 0s - loss: 3.1533e-04 - root_mean_squared_error: 0.0178"
     ]
    },
    {
     "name": "stderr",
     "output_type": "stream",
     "text": [
      "WARNING:absl:Found untraced functions such as lstm_cell_8_layer_call_fn, lstm_cell_8_layer_call_and_return_conditional_losses while saving (showing 2 of 2). These functions will not be directly callable after loading.\n"
     ]
    },
    {
     "name": "stdout",
     "output_type": "stream",
     "text": [
      "INFO:tensorflow:Assets written to: model2/assets\n"
     ]
    },
    {
     "name": "stderr",
     "output_type": "stream",
     "text": [
      "INFO:tensorflow:Assets written to: model2/assets\n",
      "WARNING:absl:<keras.layers.recurrent.LSTMCell object at 0x1326ecc70> has the same name 'LSTMCell' as a built-in Keras object. Consider renaming <class 'keras.layers.recurrent.LSTMCell'> to avoid naming conflicts when loading with `tf.keras.models.load_model`. If renaming is not possible, pass the object in the `custom_objects` parameter of the load function.\n"
     ]
    },
    {
     "name": "stdout",
     "output_type": "stream",
     "text": [
      "94/94 [==============================] - 3s 35ms/step - loss: 3.0458e-04 - root_mean_squared_error: 0.0175 - val_loss: 0.0061 - val_root_mean_squared_error: 0.0780\n",
      "Epoch 29/50\n",
      "92/94 [============================>.] - ETA: 0s - loss: 3.1166e-04 - root_mean_squared_error: 0.0177"
     ]
    },
    {
     "name": "stderr",
     "output_type": "stream",
     "text": [
      "WARNING:absl:Found untraced functions such as lstm_cell_8_layer_call_fn, lstm_cell_8_layer_call_and_return_conditional_losses while saving (showing 2 of 2). These functions will not be directly callable after loading.\n"
     ]
    },
    {
     "name": "stdout",
     "output_type": "stream",
     "text": [
      "INFO:tensorflow:Assets written to: model2/assets\n"
     ]
    },
    {
     "name": "stderr",
     "output_type": "stream",
     "text": [
      "INFO:tensorflow:Assets written to: model2/assets\n",
      "WARNING:absl:<keras.layers.recurrent.LSTMCell object at 0x1326ecc70> has the same name 'LSTMCell' as a built-in Keras object. Consider renaming <class 'keras.layers.recurrent.LSTMCell'> to avoid naming conflicts when loading with `tf.keras.models.load_model`. If renaming is not possible, pass the object in the `custom_objects` parameter of the load function.\n"
     ]
    },
    {
     "name": "stdout",
     "output_type": "stream",
     "text": [
      "94/94 [==============================] - 4s 46ms/step - loss: 3.0700e-04 - root_mean_squared_error: 0.0175 - val_loss: 0.0060 - val_root_mean_squared_error: 0.0775\n",
      "Epoch 30/50\n",
      "86/94 [==========================>...] - ETA: 0s - loss: 3.1631e-04 - root_mean_squared_error: 0.0178"
     ]
    },
    {
     "name": "stderr",
     "output_type": "stream",
     "text": [
      "WARNING:absl:Found untraced functions such as lstm_cell_8_layer_call_fn, lstm_cell_8_layer_call_and_return_conditional_losses while saving (showing 2 of 2). These functions will not be directly callable after loading.\n"
     ]
    },
    {
     "name": "stdout",
     "output_type": "stream",
     "text": [
      "INFO:tensorflow:Assets written to: model2/assets\n"
     ]
    },
    {
     "name": "stderr",
     "output_type": "stream",
     "text": [
      "INFO:tensorflow:Assets written to: model2/assets\n",
      "WARNING:absl:<keras.layers.recurrent.LSTMCell object at 0x1326ecc70> has the same name 'LSTMCell' as a built-in Keras object. Consider renaming <class 'keras.layers.recurrent.LSTMCell'> to avoid naming conflicts when loading with `tf.keras.models.load_model`. If renaming is not possible, pass the object in the `custom_objects` parameter of the load function.\n"
     ]
    },
    {
     "name": "stdout",
     "output_type": "stream",
     "text": [
      "94/94 [==============================] - 4s 42ms/step - loss: 3.0302e-04 - root_mean_squared_error: 0.0174 - val_loss: 0.0059 - val_root_mean_squared_error: 0.0771\n",
      "Epoch 31/50\n",
      "85/94 [==========================>...] - ETA: 0s - loss: 3.0676e-04 - root_mean_squared_error: 0.0175"
     ]
    },
    {
     "name": "stderr",
     "output_type": "stream",
     "text": [
      "WARNING:absl:Found untraced functions such as lstm_cell_8_layer_call_fn, lstm_cell_8_layer_call_and_return_conditional_losses while saving (showing 2 of 2). These functions will not be directly callable after loading.\n"
     ]
    },
    {
     "name": "stdout",
     "output_type": "stream",
     "text": [
      "INFO:tensorflow:Assets written to: model2/assets\n"
     ]
    },
    {
     "name": "stderr",
     "output_type": "stream",
     "text": [
      "INFO:tensorflow:Assets written to: model2/assets\n",
      "WARNING:absl:<keras.layers.recurrent.LSTMCell object at 0x1326ecc70> has the same name 'LSTMCell' as a built-in Keras object. Consider renaming <class 'keras.layers.recurrent.LSTMCell'> to avoid naming conflicts when loading with `tf.keras.models.load_model`. If renaming is not possible, pass the object in the `custom_objects` parameter of the load function.\n"
     ]
    },
    {
     "name": "stdout",
     "output_type": "stream",
     "text": [
      "94/94 [==============================] - 4s 38ms/step - loss: 2.9543e-04 - root_mean_squared_error: 0.0172 - val_loss: 0.0059 - val_root_mean_squared_error: 0.0769\n",
      "Epoch 32/50\n",
      "81/94 [========================>.....] - ETA: 0s - loss: 2.8638e-04 - root_mean_squared_error: 0.0169"
     ]
    },
    {
     "name": "stderr",
     "output_type": "stream",
     "text": [
      "WARNING:absl:Found untraced functions such as lstm_cell_8_layer_call_fn, lstm_cell_8_layer_call_and_return_conditional_losses while saving (showing 2 of 2). These functions will not be directly callable after loading.\n"
     ]
    },
    {
     "name": "stdout",
     "output_type": "stream",
     "text": [
      "INFO:tensorflow:Assets written to: model2/assets\n"
     ]
    },
    {
     "name": "stderr",
     "output_type": "stream",
     "text": [
      "INFO:tensorflow:Assets written to: model2/assets\n",
      "WARNING:absl:<keras.layers.recurrent.LSTMCell object at 0x1326ecc70> has the same name 'LSTMCell' as a built-in Keras object. Consider renaming <class 'keras.layers.recurrent.LSTMCell'> to avoid naming conflicts when loading with `tf.keras.models.load_model`. If renaming is not possible, pass the object in the `custom_objects` parameter of the load function.\n"
     ]
    },
    {
     "name": "stdout",
     "output_type": "stream",
     "text": [
      "94/94 [==============================] - 4s 42ms/step - loss: 2.9720e-04 - root_mean_squared_error: 0.0172 - val_loss: 0.0059 - val_root_mean_squared_error: 0.0767\n",
      "Epoch 33/50\n",
      "87/94 [==========================>...] - ETA: 0s - loss: 3.0406e-04 - root_mean_squared_error: 0.0174"
     ]
    },
    {
     "name": "stderr",
     "output_type": "stream",
     "text": [
      "WARNING:absl:Found untraced functions such as lstm_cell_8_layer_call_fn, lstm_cell_8_layer_call_and_return_conditional_losses while saving (showing 2 of 2). These functions will not be directly callable after loading.\n"
     ]
    },
    {
     "name": "stdout",
     "output_type": "stream",
     "text": [
      "INFO:tensorflow:Assets written to: model2/assets\n"
     ]
    },
    {
     "name": "stderr",
     "output_type": "stream",
     "text": [
      "INFO:tensorflow:Assets written to: model2/assets\n",
      "WARNING:absl:<keras.layers.recurrent.LSTMCell object at 0x1326ecc70> has the same name 'LSTMCell' as a built-in Keras object. Consider renaming <class 'keras.layers.recurrent.LSTMCell'> to avoid naming conflicts when loading with `tf.keras.models.load_model`. If renaming is not possible, pass the object in the `custom_objects` parameter of the load function.\n"
     ]
    },
    {
     "name": "stdout",
     "output_type": "stream",
     "text": [
      "94/94 [==============================] - 3s 33ms/step - loss: 2.9627e-04 - root_mean_squared_error: 0.0172 - val_loss: 0.0058 - val_root_mean_squared_error: 0.0764\n",
      "Epoch 34/50\n",
      "90/94 [===========================>..] - ETA: 0s - loss: 2.9505e-04 - root_mean_squared_error: 0.0172"
     ]
    },
    {
     "name": "stderr",
     "output_type": "stream",
     "text": [
      "WARNING:absl:Found untraced functions such as lstm_cell_8_layer_call_fn, lstm_cell_8_layer_call_and_return_conditional_losses while saving (showing 2 of 2). These functions will not be directly callable after loading.\n"
     ]
    },
    {
     "name": "stdout",
     "output_type": "stream",
     "text": [
      "INFO:tensorflow:Assets written to: model2/assets\n"
     ]
    },
    {
     "name": "stderr",
     "output_type": "stream",
     "text": [
      "INFO:tensorflow:Assets written to: model2/assets\n",
      "WARNING:absl:<keras.layers.recurrent.LSTMCell object at 0x1326ecc70> has the same name 'LSTMCell' as a built-in Keras object. Consider renaming <class 'keras.layers.recurrent.LSTMCell'> to avoid naming conflicts when loading with `tf.keras.models.load_model`. If renaming is not possible, pass the object in the `custom_objects` parameter of the load function.\n"
     ]
    },
    {
     "name": "stdout",
     "output_type": "stream",
     "text": [
      "94/94 [==============================] - 4s 41ms/step - loss: 2.9173e-04 - root_mean_squared_error: 0.0171 - val_loss: 0.0057 - val_root_mean_squared_error: 0.0756\n",
      "Epoch 35/50\n",
      "84/94 [=========================>....] - ETA: 0s - loss: 2.5937e-04 - root_mean_squared_error: 0.0161"
     ]
    },
    {
     "name": "stderr",
     "output_type": "stream",
     "text": [
      "WARNING:absl:Found untraced functions such as lstm_cell_8_layer_call_fn, lstm_cell_8_layer_call_and_return_conditional_losses while saving (showing 2 of 2). These functions will not be directly callable after loading.\n"
     ]
    },
    {
     "name": "stdout",
     "output_type": "stream",
     "text": [
      "INFO:tensorflow:Assets written to: model2/assets\n"
     ]
    },
    {
     "name": "stderr",
     "output_type": "stream",
     "text": [
      "INFO:tensorflow:Assets written to: model2/assets\n",
      "WARNING:absl:<keras.layers.recurrent.LSTMCell object at 0x1326ecc70> has the same name 'LSTMCell' as a built-in Keras object. Consider renaming <class 'keras.layers.recurrent.LSTMCell'> to avoid naming conflicts when loading with `tf.keras.models.load_model`. If renaming is not possible, pass the object in the `custom_objects` parameter of the load function.\n"
     ]
    },
    {
     "name": "stdout",
     "output_type": "stream",
     "text": [
      "94/94 [==============================] - 4s 38ms/step - loss: 2.8344e-04 - root_mean_squared_error: 0.0168 - val_loss: 0.0057 - val_root_mean_squared_error: 0.0753\n",
      "Epoch 36/50\n",
      "86/94 [==========================>...] - ETA: 0s - loss: 2.5131e-04 - root_mean_squared_error: 0.0159"
     ]
    },
    {
     "name": "stderr",
     "output_type": "stream",
     "text": [
      "WARNING:absl:Found untraced functions such as lstm_cell_8_layer_call_fn, lstm_cell_8_layer_call_and_return_conditional_losses while saving (showing 2 of 2). These functions will not be directly callable after loading.\n"
     ]
    },
    {
     "name": "stdout",
     "output_type": "stream",
     "text": [
      "INFO:tensorflow:Assets written to: model2/assets\n"
     ]
    },
    {
     "name": "stderr",
     "output_type": "stream",
     "text": [
      "INFO:tensorflow:Assets written to: model2/assets\n",
      "WARNING:absl:<keras.layers.recurrent.LSTMCell object at 0x1326ecc70> has the same name 'LSTMCell' as a built-in Keras object. Consider renaming <class 'keras.layers.recurrent.LSTMCell'> to avoid naming conflicts when loading with `tf.keras.models.load_model`. If renaming is not possible, pass the object in the `custom_objects` parameter of the load function.\n"
     ]
    },
    {
     "name": "stdout",
     "output_type": "stream",
     "text": [
      "94/94 [==============================] - 4s 41ms/step - loss: 2.7984e-04 - root_mean_squared_error: 0.0167 - val_loss: 0.0056 - val_root_mean_squared_error: 0.0749\n",
      "Epoch 37/50\n",
      "86/94 [==========================>...] - ETA: 0s - loss: 2.7906e-04 - root_mean_squared_error: 0.0167"
     ]
    },
    {
     "name": "stderr",
     "output_type": "stream",
     "text": [
      "WARNING:absl:Found untraced functions such as lstm_cell_8_layer_call_fn, lstm_cell_8_layer_call_and_return_conditional_losses while saving (showing 2 of 2). These functions will not be directly callable after loading.\n"
     ]
    },
    {
     "name": "stdout",
     "output_type": "stream",
     "text": [
      "INFO:tensorflow:Assets written to: model2/assets\n"
     ]
    },
    {
     "name": "stderr",
     "output_type": "stream",
     "text": [
      "INFO:tensorflow:Assets written to: model2/assets\n",
      "WARNING:absl:<keras.layers.recurrent.LSTMCell object at 0x1326ecc70> has the same name 'LSTMCell' as a built-in Keras object. Consider renaming <class 'keras.layers.recurrent.LSTMCell'> to avoid naming conflicts when loading with `tf.keras.models.load_model`. If renaming is not possible, pass the object in the `custom_objects` parameter of the load function.\n"
     ]
    },
    {
     "name": "stdout",
     "output_type": "stream",
     "text": [
      "94/94 [==============================] - 3s 32ms/step - loss: 2.7771e-04 - root_mean_squared_error: 0.0167 - val_loss: 0.0055 - val_root_mean_squared_error: 0.0745\n",
      "Epoch 38/50\n",
      "89/94 [===========================>..] - ETA: 0s - loss: 2.8347e-04 - root_mean_squared_error: 0.0168"
     ]
    },
    {
     "name": "stderr",
     "output_type": "stream",
     "text": [
      "WARNING:absl:Found untraced functions such as lstm_cell_8_layer_call_fn, lstm_cell_8_layer_call_and_return_conditional_losses while saving (showing 2 of 2). These functions will not be directly callable after loading.\n"
     ]
    },
    {
     "name": "stdout",
     "output_type": "stream",
     "text": [
      "INFO:tensorflow:Assets written to: model2/assets\n"
     ]
    },
    {
     "name": "stderr",
     "output_type": "stream",
     "text": [
      "INFO:tensorflow:Assets written to: model2/assets\n",
      "WARNING:absl:<keras.layers.recurrent.LSTMCell object at 0x1326ecc70> has the same name 'LSTMCell' as a built-in Keras object. Consider renaming <class 'keras.layers.recurrent.LSTMCell'> to avoid naming conflicts when loading with `tf.keras.models.load_model`. If renaming is not possible, pass the object in the `custom_objects` parameter of the load function.\n"
     ]
    },
    {
     "name": "stdout",
     "output_type": "stream",
     "text": [
      "94/94 [==============================] - 3s 36ms/step - loss: 2.7671e-04 - root_mean_squared_error: 0.0166 - val_loss: 0.0055 - val_root_mean_squared_error: 0.0739\n",
      "Epoch 39/50\n",
      "85/94 [==========================>...] - ETA: 0s - loss: 2.8676e-04 - root_mean_squared_error: 0.0169"
     ]
    },
    {
     "name": "stderr",
     "output_type": "stream",
     "text": [
      "WARNING:absl:Found untraced functions such as lstm_cell_8_layer_call_fn, lstm_cell_8_layer_call_and_return_conditional_losses while saving (showing 2 of 2). These functions will not be directly callable after loading.\n"
     ]
    },
    {
     "name": "stdout",
     "output_type": "stream",
     "text": [
      "INFO:tensorflow:Assets written to: model2/assets\n"
     ]
    },
    {
     "name": "stderr",
     "output_type": "stream",
     "text": [
      "INFO:tensorflow:Assets written to: model2/assets\n",
      "WARNING:absl:<keras.layers.recurrent.LSTMCell object at 0x1326ecc70> has the same name 'LSTMCell' as a built-in Keras object. Consider renaming <class 'keras.layers.recurrent.LSTMCell'> to avoid naming conflicts when loading with `tf.keras.models.load_model`. If renaming is not possible, pass the object in the `custom_objects` parameter of the load function.\n"
     ]
    },
    {
     "name": "stdout",
     "output_type": "stream",
     "text": [
      "94/94 [==============================] - 4s 41ms/step - loss: 2.7344e-04 - root_mean_squared_error: 0.0165 - val_loss: 0.0054 - val_root_mean_squared_error: 0.0738\n",
      "Epoch 40/50\n",
      "83/94 [=========================>....] - ETA: 0s - loss: 2.8903e-04 - root_mean_squared_error: 0.0170"
     ]
    },
    {
     "name": "stderr",
     "output_type": "stream",
     "text": [
      "WARNING:absl:Found untraced functions such as lstm_cell_8_layer_call_fn, lstm_cell_8_layer_call_and_return_conditional_losses while saving (showing 2 of 2). These functions will not be directly callable after loading.\n"
     ]
    },
    {
     "name": "stdout",
     "output_type": "stream",
     "text": [
      "INFO:tensorflow:Assets written to: model2/assets\n"
     ]
    },
    {
     "name": "stderr",
     "output_type": "stream",
     "text": [
      "INFO:tensorflow:Assets written to: model2/assets\n",
      "WARNING:absl:<keras.layers.recurrent.LSTMCell object at 0x1326ecc70> has the same name 'LSTMCell' as a built-in Keras object. Consider renaming <class 'keras.layers.recurrent.LSTMCell'> to avoid naming conflicts when loading with `tf.keras.models.load_model`. If renaming is not possible, pass the object in the `custom_objects` parameter of the load function.\n"
     ]
    },
    {
     "name": "stdout",
     "output_type": "stream",
     "text": [
      "94/94 [==============================] - 4s 39ms/step - loss: 2.6987e-04 - root_mean_squared_error: 0.0164 - val_loss: 0.0054 - val_root_mean_squared_error: 0.0732\n",
      "Epoch 41/50\n",
      "93/94 [============================>.] - ETA: 0s - loss: 2.6739e-04 - root_mean_squared_error: 0.0164"
     ]
    },
    {
     "name": "stderr",
     "output_type": "stream",
     "text": [
      "WARNING:absl:Found untraced functions such as lstm_cell_8_layer_call_fn, lstm_cell_8_layer_call_and_return_conditional_losses while saving (showing 2 of 2). These functions will not be directly callable after loading.\n"
     ]
    },
    {
     "name": "stdout",
     "output_type": "stream",
     "text": [
      "INFO:tensorflow:Assets written to: model2/assets\n"
     ]
    },
    {
     "name": "stderr",
     "output_type": "stream",
     "text": [
      "INFO:tensorflow:Assets written to: model2/assets\n",
      "WARNING:absl:<keras.layers.recurrent.LSTMCell object at 0x1326ecc70> has the same name 'LSTMCell' as a built-in Keras object. Consider renaming <class 'keras.layers.recurrent.LSTMCell'> to avoid naming conflicts when loading with `tf.keras.models.load_model`. If renaming is not possible, pass the object in the `custom_objects` parameter of the load function.\n"
     ]
    },
    {
     "name": "stdout",
     "output_type": "stream",
     "text": [
      "94/94 [==============================] - 4s 45ms/step - loss: 2.6627e-04 - root_mean_squared_error: 0.0163 - val_loss: 0.0053 - val_root_mean_squared_error: 0.0728\n",
      "Epoch 42/50\n",
      "85/94 [==========================>...] - ETA: 0s - loss: 2.9117e-04 - root_mean_squared_error: 0.0171"
     ]
    },
    {
     "name": "stderr",
     "output_type": "stream",
     "text": [
      "WARNING:absl:Found untraced functions such as lstm_cell_8_layer_call_fn, lstm_cell_8_layer_call_and_return_conditional_losses while saving (showing 2 of 2). These functions will not be directly callable after loading.\n"
     ]
    },
    {
     "name": "stdout",
     "output_type": "stream",
     "text": [
      "INFO:tensorflow:Assets written to: model2/assets\n"
     ]
    },
    {
     "name": "stderr",
     "output_type": "stream",
     "text": [
      "INFO:tensorflow:Assets written to: model2/assets\n",
      "WARNING:absl:<keras.layers.recurrent.LSTMCell object at 0x1326ecc70> has the same name 'LSTMCell' as a built-in Keras object. Consider renaming <class 'keras.layers.recurrent.LSTMCell'> to avoid naming conflicts when loading with `tf.keras.models.load_model`. If renaming is not possible, pass the object in the `custom_objects` parameter of the load function.\n"
     ]
    },
    {
     "name": "stdout",
     "output_type": "stream",
     "text": [
      "94/94 [==============================] - 3s 35ms/step - loss: 2.8213e-04 - root_mean_squared_error: 0.0168 - val_loss: 0.0052 - val_root_mean_squared_error: 0.0724\n",
      "Epoch 43/50\n",
      "88/94 [===========================>..] - ETA: 0s - loss: 2.7110e-04 - root_mean_squared_error: 0.0165"
     ]
    },
    {
     "name": "stderr",
     "output_type": "stream",
     "text": [
      "WARNING:absl:Found untraced functions such as lstm_cell_8_layer_call_fn, lstm_cell_8_layer_call_and_return_conditional_losses while saving (showing 2 of 2). These functions will not be directly callable after loading.\n"
     ]
    },
    {
     "name": "stdout",
     "output_type": "stream",
     "text": [
      "INFO:tensorflow:Assets written to: model2/assets\n"
     ]
    },
    {
     "name": "stderr",
     "output_type": "stream",
     "text": [
      "INFO:tensorflow:Assets written to: model2/assets\n",
      "WARNING:absl:<keras.layers.recurrent.LSTMCell object at 0x1326ecc70> has the same name 'LSTMCell' as a built-in Keras object. Consider renaming <class 'keras.layers.recurrent.LSTMCell'> to avoid naming conflicts when loading with `tf.keras.models.load_model`. If renaming is not possible, pass the object in the `custom_objects` parameter of the load function.\n"
     ]
    },
    {
     "name": "stdout",
     "output_type": "stream",
     "text": [
      "94/94 [==============================] - 4s 45ms/step - loss: 2.6015e-04 - root_mean_squared_error: 0.0161 - val_loss: 0.0052 - val_root_mean_squared_error: 0.0720\n",
      "Epoch 44/50\n",
      "92/94 [============================>.] - ETA: 0s - loss: 2.2006e-04 - root_mean_squared_error: 0.0148"
     ]
    },
    {
     "name": "stderr",
     "output_type": "stream",
     "text": [
      "WARNING:absl:Found untraced functions such as lstm_cell_8_layer_call_fn, lstm_cell_8_layer_call_and_return_conditional_losses while saving (showing 2 of 2). These functions will not be directly callable after loading.\n"
     ]
    },
    {
     "name": "stdout",
     "output_type": "stream",
     "text": [
      "INFO:tensorflow:Assets written to: model2/assets\n"
     ]
    },
    {
     "name": "stderr",
     "output_type": "stream",
     "text": [
      "INFO:tensorflow:Assets written to: model2/assets\n",
      "WARNING:absl:<keras.layers.recurrent.LSTMCell object at 0x1326ecc70> has the same name 'LSTMCell' as a built-in Keras object. Consider renaming <class 'keras.layers.recurrent.LSTMCell'> to avoid naming conflicts when loading with `tf.keras.models.load_model`. If renaming is not possible, pass the object in the `custom_objects` parameter of the load function.\n"
     ]
    },
    {
     "name": "stdout",
     "output_type": "stream",
     "text": [
      "94/94 [==============================] - 3s 35ms/step - loss: 2.5370e-04 - root_mean_squared_error: 0.0159 - val_loss: 0.0052 - val_root_mean_squared_error: 0.0719\n",
      "Epoch 45/50\n",
      "94/94 [==============================] - ETA: 0s - loss: 2.5433e-04 - root_mean_squared_error: 0.0159"
     ]
    },
    {
     "name": "stderr",
     "output_type": "stream",
     "text": [
      "WARNING:absl:Found untraced functions such as lstm_cell_8_layer_call_fn, lstm_cell_8_layer_call_and_return_conditional_losses while saving (showing 2 of 2). These functions will not be directly callable after loading.\n"
     ]
    },
    {
     "name": "stdout",
     "output_type": "stream",
     "text": [
      "INFO:tensorflow:Assets written to: model2/assets\n"
     ]
    },
    {
     "name": "stderr",
     "output_type": "stream",
     "text": [
      "INFO:tensorflow:Assets written to: model2/assets\n",
      "WARNING:absl:<keras.layers.recurrent.LSTMCell object at 0x1326ecc70> has the same name 'LSTMCell' as a built-in Keras object. Consider renaming <class 'keras.layers.recurrent.LSTMCell'> to avoid naming conflicts when loading with `tf.keras.models.load_model`. If renaming is not possible, pass the object in the `custom_objects` parameter of the load function.\n"
     ]
    },
    {
     "name": "stdout",
     "output_type": "stream",
     "text": [
      "94/94 [==============================] - 3s 36ms/step - loss: 2.5433e-04 - root_mean_squared_error: 0.0159 - val_loss: 0.0050 - val_root_mean_squared_error: 0.0710\n",
      "Epoch 46/50\n",
      "82/94 [=========================>....] - ETA: 0s - loss: 2.6250e-04 - root_mean_squared_error: 0.0162"
     ]
    },
    {
     "name": "stderr",
     "output_type": "stream",
     "text": [
      "WARNING:absl:Found untraced functions such as lstm_cell_8_layer_call_fn, lstm_cell_8_layer_call_and_return_conditional_losses while saving (showing 2 of 2). These functions will not be directly callable after loading.\n"
     ]
    },
    {
     "name": "stdout",
     "output_type": "stream",
     "text": [
      "INFO:tensorflow:Assets written to: model2/assets\n"
     ]
    },
    {
     "name": "stderr",
     "output_type": "stream",
     "text": [
      "INFO:tensorflow:Assets written to: model2/assets\n",
      "WARNING:absl:<keras.layers.recurrent.LSTMCell object at 0x1326ecc70> has the same name 'LSTMCell' as a built-in Keras object. Consider renaming <class 'keras.layers.recurrent.LSTMCell'> to avoid naming conflicts when loading with `tf.keras.models.load_model`. If renaming is not possible, pass the object in the `custom_objects` parameter of the load function.\n"
     ]
    },
    {
     "name": "stdout",
     "output_type": "stream",
     "text": [
      "94/94 [==============================] - 4s 42ms/step - loss: 2.4906e-04 - root_mean_squared_error: 0.0158 - val_loss: 0.0050 - val_root_mean_squared_error: 0.0707\n",
      "Epoch 47/50\n",
      "94/94 [==============================] - ETA: 0s - loss: 2.5447e-04 - root_mean_squared_error: 0.0160"
     ]
    },
    {
     "name": "stderr",
     "output_type": "stream",
     "text": [
      "WARNING:absl:Found untraced functions such as lstm_cell_8_layer_call_fn, lstm_cell_8_layer_call_and_return_conditional_losses while saving (showing 2 of 2). These functions will not be directly callable after loading.\n"
     ]
    },
    {
     "name": "stdout",
     "output_type": "stream",
     "text": [
      "INFO:tensorflow:Assets written to: model2/assets\n"
     ]
    },
    {
     "name": "stderr",
     "output_type": "stream",
     "text": [
      "INFO:tensorflow:Assets written to: model2/assets\n",
      "WARNING:absl:<keras.layers.recurrent.LSTMCell object at 0x1326ecc70> has the same name 'LSTMCell' as a built-in Keras object. Consider renaming <class 'keras.layers.recurrent.LSTMCell'> to avoid naming conflicts when loading with `tf.keras.models.load_model`. If renaming is not possible, pass the object in the `custom_objects` parameter of the load function.\n"
     ]
    },
    {
     "name": "stdout",
     "output_type": "stream",
     "text": [
      "94/94 [==============================] - 3s 35ms/step - loss: 2.5447e-04 - root_mean_squared_error: 0.0160 - val_loss: 0.0050 - val_root_mean_squared_error: 0.0704\n",
      "Epoch 48/50\n",
      "84/94 [=========================>....] - ETA: 0s - loss: 2.0822e-04 - root_mean_squared_error: 0.0144"
     ]
    },
    {
     "name": "stderr",
     "output_type": "stream",
     "text": [
      "WARNING:absl:Found untraced functions such as lstm_cell_8_layer_call_fn, lstm_cell_8_layer_call_and_return_conditional_losses while saving (showing 2 of 2). These functions will not be directly callable after loading.\n"
     ]
    },
    {
     "name": "stdout",
     "output_type": "stream",
     "text": [
      "INFO:tensorflow:Assets written to: model2/assets\n"
     ]
    },
    {
     "name": "stderr",
     "output_type": "stream",
     "text": [
      "INFO:tensorflow:Assets written to: model2/assets\n",
      "WARNING:absl:<keras.layers.recurrent.LSTMCell object at 0x1326ecc70> has the same name 'LSTMCell' as a built-in Keras object. Consider renaming <class 'keras.layers.recurrent.LSTMCell'> to avoid naming conflicts when loading with `tf.keras.models.load_model`. If renaming is not possible, pass the object in the `custom_objects` parameter of the load function.\n"
     ]
    },
    {
     "name": "stdout",
     "output_type": "stream",
     "text": [
      "94/94 [==============================] - 4s 39ms/step - loss: 2.4590e-04 - root_mean_squared_error: 0.0157 - val_loss: 0.0049 - val_root_mean_squared_error: 0.0702\n",
      "Epoch 49/50\n",
      "84/94 [=========================>....] - ETA: 0s - loss: 2.0637e-04 - root_mean_squared_error: 0.0144"
     ]
    },
    {
     "name": "stderr",
     "output_type": "stream",
     "text": [
      "WARNING:absl:Found untraced functions such as lstm_cell_8_layer_call_fn, lstm_cell_8_layer_call_and_return_conditional_losses while saving (showing 2 of 2). These functions will not be directly callable after loading.\n"
     ]
    },
    {
     "name": "stdout",
     "output_type": "stream",
     "text": [
      "INFO:tensorflow:Assets written to: model2/assets\n"
     ]
    },
    {
     "name": "stderr",
     "output_type": "stream",
     "text": [
      "INFO:tensorflow:Assets written to: model2/assets\n",
      "WARNING:absl:<keras.layers.recurrent.LSTMCell object at 0x1326ecc70> has the same name 'LSTMCell' as a built-in Keras object. Consider renaming <class 'keras.layers.recurrent.LSTMCell'> to avoid naming conflicts when loading with `tf.keras.models.load_model`. If renaming is not possible, pass the object in the `custom_objects` parameter of the load function.\n"
     ]
    },
    {
     "name": "stdout",
     "output_type": "stream",
     "text": [
      "94/94 [==============================] - 3s 34ms/step - loss: 2.4621e-04 - root_mean_squared_error: 0.0157 - val_loss: 0.0048 - val_root_mean_squared_error: 0.0696\n",
      "Epoch 50/50\n",
      "84/94 [=========================>....] - ETA: 0s - loss: 2.2597e-04 - root_mean_squared_error: 0.0150"
     ]
    },
    {
     "name": "stderr",
     "output_type": "stream",
     "text": [
      "WARNING:absl:Found untraced functions such as lstm_cell_8_layer_call_fn, lstm_cell_8_layer_call_and_return_conditional_losses while saving (showing 2 of 2). These functions will not be directly callable after loading.\n"
     ]
    },
    {
     "name": "stdout",
     "output_type": "stream",
     "text": [
      "INFO:tensorflow:Assets written to: model2/assets\n"
     ]
    },
    {
     "name": "stderr",
     "output_type": "stream",
     "text": [
      "INFO:tensorflow:Assets written to: model2/assets\n",
      "WARNING:absl:<keras.layers.recurrent.LSTMCell object at 0x1326ecc70> has the same name 'LSTMCell' as a built-in Keras object. Consider renaming <class 'keras.layers.recurrent.LSTMCell'> to avoid naming conflicts when loading with `tf.keras.models.load_model`. If renaming is not possible, pass the object in the `custom_objects` parameter of the load function.\n"
     ]
    },
    {
     "name": "stdout",
     "output_type": "stream",
     "text": [
      "\b\b\b\b\b\b\b\b\b\b\b\b\b\b\b\b\b\b\b\b\b\b\b\b\b\b\b\b\b\b\b\b\b\b\b\b\b\b\b\b\b\b\b\b\b\b\b\b\b\b\b\b\b\b\b\b\b\b\b\b\b\b\b\b\b\b\b\b\b\b\b\b\b\b\b\b\b\b\b\b\b\b\b\b\b\b\b\b\b\b\b\b\b\b\b\b\b\b\b\b\b\r",
      "94/94 [==============================] - 3s 34ms/step - loss: 2.3757e-04 - root_mean_squared_error: 0.0154 - val_loss: 0.0048 - val_root_mean_squared_error: 0.0693\n"
     ]
    },
    {
     "data": {
      "text/plain": [
       "<keras.callbacks.History at 0x1345d5490>"
      ]
     },
     "execution_count": 123,
     "metadata": {},
     "output_type": "execute_result"
    }
   ],
   "source": [
    "mvmodel.fit(in_train, out_train, validation_data=(in_val, out_val), epochs=50, callbacks=[cp])"
   ]
  },
  {
   "cell_type": "code",
   "execution_count": 124,
   "metadata": {},
   "outputs": [],
   "source": [
    "final_mvmodel = load_model('model2/')"
   ]
  },
  {
   "cell_type": "code",
   "execution_count": 118,
   "metadata": {},
   "outputs": [],
   "source": [
    "from sklearn.metrics import mean_squared_error\n",
    "def plot_predictions(model,x,y,set_label,sublabels):\n",
    "    predictions = model.predict(x)\n",
    "    rms=np.sqrt(mean_squared_error(y,predictions,multioutput='raw_values'))\n",
    "    nsteps=y.shape[0]\n",
    "    nvars=y.shape[1]\n",
    "    ncols=1+(nvars>1)\n",
    "    nrows=1+int((nvars-1)/2)\n",
    "    \n",
    "    fig,axs = plt.subplots(nrows,ncols,figsize=(ncols*8,nrows*5))\n",
    "    \n",
    "    if nrows<=1:\n",
    "        for var in range(nvars):\n",
    "            axs[var].plot(y[:,var],'k',label='actual')\n",
    "            axs[var].plot(predictions[:,var],'r',label='predicted')\n",
    "            axs[var].set_title(sublabels[var])\n",
    "            axs[var].legend()\n",
    "            print(\"RMS error in %s prediction for %s : %4.3f\" %(sublabels[var],set_label,rms[var]))\n",
    "    \n",
    "    else:\n",
    "        var = 0\n",
    "        for row in range(nrows):\n",
    "            for col in range(ncols):\n",
    "                axs[row][col].plot(y[:,var],'k',label='actual')\n",
    "                axs[row][col].plot(predictions[:,var],'r',label='predicted')\n",
    "                axs[row][col].set_title(sublabels[var])\n",
    "                axs[row][col].legend()\n",
    "                print(\"RMS error in %s prediction for %s : %4.3f\" %(sublabels[var],set_label,rms[var]))\n",
    "                var+=1\n",
    "    \n",
    "    plt.suptitle(set_label)"
   ]
  },
  {
   "cell_type": "code",
   "execution_count": 125,
   "metadata": {},
   "outputs": [
    {
     "name": "stdout",
     "output_type": "stream",
     "text": [
      "RMS error in u prediction for Training set : 0.006\n",
      "RMS error in v prediction for Training set : 0.021\n",
      "RMS error in w prediction for Training set : 0.007\n",
      "RMS error in p prediction for Training set : 0.021\n"
     ]
    },
    {
     "data": {
      "image/png": "[encoded data removed]",
      "text/plain": [
       "<Figure size 1152x720 with 4 Axes>"
      ]
     },
     "metadata": {},
     "output_type": "display_data"
    }
   ],
   "source": [
    "plot_predictions(final_mvmodel,in_train,out_train,'Training set',['u','v','w','p'])"
   ]
  },
  {
   "cell_type": "code",
   "execution_count": 126,
   "metadata": {},
   "outputs": [
    {
     "name": "stdout",
     "output_type": "stream",
     "text": [
      "RMS error in u prediction for Validation set : 0.041\n",
      "RMS error in v prediction for Validation set : 0.120\n",
      "RMS error in w prediction for Validation set : 0.041\n",
      "RMS error in p prediction for Validation set : 0.038\n"
     ]
    },
    {
     "data": {
      "image/png": "[encoded data removed]",
      "text/plain": [
       "<Figure size 1152x720 with 4 Axes>"
      ]
     },
     "metadata": {},
     "output_type": "display_data"
    }
   ],
   "source": [
    "plot_predictions(final_mvmodel,in_val,out_val,'Validation set',['u','v','w','p'])"
   ]
  },
  {
   "cell_type": "code",
   "execution_count": 127,
   "metadata": {},
   "outputs": [
    {
     "name": "stdout",
     "output_type": "stream",
     "text": [
      "RMS error in u prediction for Test set : 0.212\n",
      "RMS error in v prediction for Test set : 0.147\n",
      "RMS error in w prediction for Test set : 0.404\n",
      "RMS error in p prediction for Test set : 0.061\n"
     ]
    },
    {
     "data": {
      "image/png": "[encoded data removed]",
      "text/plain": [
       "<Figure size 1152x720 with 4 Axes>"
      ]
     },
     "metadata": {},
     "output_type": "display_data"
    }
   ],
   "source": [
    "plot_predictions(final_mvmodel,in_test,out_test,'Test set',['u','v','w','p'])"
   ]
  },
  {
   "cell_type": "code",
   "execution_count": null,
   "metadata": {},
   "outputs": [],
   "source": []
  }
 ],
 "metadata": {
  "kernelspec": {
   "display_name": "Python 3",
   "language": "python",
   "name": "python3"
  },
  "language_info": {
   "codemirror_mode": {
    "name": "ipython",
    "version": 3
   },
   "file_extension": ".py",
   "mimetype": "text/x-python",
   "name": "python",
   "nbconvert_exporter": "python",
   "pygments_lexer": "ipython3",
   "version": "3.8.1"
  }
 },
 "nbformat": 4,
 "nbformat_minor": 4
}
